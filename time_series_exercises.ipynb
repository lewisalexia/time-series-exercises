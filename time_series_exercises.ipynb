{
 "cells": [
  {
   "cell_type": "markdown",
   "id": "7357bdf8-79c5-438e-8c5d-fadfe71f5075",
   "metadata": {
    "jp-MarkdownHeadingCollapsed": true,
    "tags": []
   },
   "source": [
    "# Imports"
   ]
  },
  {
   "cell_type": "code",
   "execution_count": 186,
   "id": "8e0b0ccc-3704-4fde-87fe-901c2eb4ea95",
   "metadata": {},
   "outputs": [],
   "source": [
    "# my module\n",
    "import acquire as aq\n",
    "\n",
    "# other imports\n",
    "import pandas as pd\n",
    "import numpy as np\n",
    "import requests\n",
    "import math\n",
    "import os\n",
    "\n",
    "# viz\n",
    "import matplotlib.pyplot as plt\n",
    "\n",
    "# datetime\n",
    "from datetime import datetime\n",
    "\n",
    "# dataset\n",
    "from vega_datasets import data\n"
   ]
  },
  {
   "cell_type": "markdown",
   "id": "08c705b0-ef72-4ef7-9c6a-4a4de18b5cec",
   "metadata": {
    "tags": []
   },
   "source": [
    "# Data Acquisition Exercises"
   ]
  },
  {
   "cell_type": "markdown",
   "id": "2f56f5c9-c981-4792-bc0e-8485e0ca12e6",
   "metadata": {},
   "source": [
    "**Setup**\n",
    "* url (base + endpoint)\n",
    "* empty list\n",
    "Loop\n",
    "* make a request\n",
    "* handle the response, add to the list\n",
    "* find the next url endpoint\n",
    "    * if it's None, stop looping\n",
    "    * if it's a string, use it to construct the next url\n",
    "* Turn the list into a dataframe"
   ]
  },
  {
   "cell_type": "markdown",
   "id": "28e7f85c-c391-4f69-95df-222fe5461029",
   "metadata": {
    "jp-MarkdownHeadingCollapsed": true,
    "tags": []
   },
   "source": [
    "## 1. Using the code from the lesson as a guide and the REST API from https://swapi.dev/ as we did in the lesson, create a dataframe named people that has all of the data for people."
   ]
  },
  {
   "cell_type": "code",
   "execution_count": 61,
   "id": "37d1071d-0743-474a-aac7-aeb9f992dee3",
   "metadata": {
    "scrolled": true,
    "tags": []
   },
   "outputs": [
    {
     "name": "stdout",
     "output_type": "stream",
     "text": [
      "Query Completed for People...\n",
      "CSV File Found, Loading...\n"
     ]
    },
    {
     "data": {
      "text/html": [
       "<div>\n",
       "<style scoped>\n",
       "    .dataframe tbody tr th:only-of-type {\n",
       "        vertical-align: middle;\n",
       "    }\n",
       "\n",
       "    .dataframe tbody tr th {\n",
       "        vertical-align: top;\n",
       "    }\n",
       "\n",
       "    .dataframe thead th {\n",
       "        text-align: right;\n",
       "    }\n",
       "</style>\n",
       "<table border=\"1\" class=\"dataframe\">\n",
       "  <thead>\n",
       "    <tr style=\"text-align: right;\">\n",
       "      <th></th>\n",
       "      <th>name</th>\n",
       "      <th>height</th>\n",
       "      <th>mass</th>\n",
       "      <th>hair_color</th>\n",
       "      <th>skin_color</th>\n",
       "      <th>eye_color</th>\n",
       "      <th>birth_year</th>\n",
       "      <th>gender</th>\n",
       "      <th>homeworld</th>\n",
       "      <th>films</th>\n",
       "      <th>species</th>\n",
       "      <th>vehicles</th>\n",
       "      <th>starships</th>\n",
       "      <th>created</th>\n",
       "      <th>edited</th>\n",
       "      <th>url</th>\n",
       "    </tr>\n",
       "  </thead>\n",
       "  <tbody>\n",
       "    <tr>\n",
       "      <th>0</th>\n",
       "      <td>Luke Skywalker</td>\n",
       "      <td>172</td>\n",
       "      <td>77</td>\n",
       "      <td>blond</td>\n",
       "      <td>fair</td>\n",
       "      <td>blue</td>\n",
       "      <td>19BBY</td>\n",
       "      <td>male</td>\n",
       "      <td>https://swapi.dev/api/planets/1/</td>\n",
       "      <td>['https://swapi.dev/api/films/1/', 'https://sw...</td>\n",
       "      <td>[]</td>\n",
       "      <td>['https://swapi.dev/api/vehicles/14/', 'https:...</td>\n",
       "      <td>['https://swapi.dev/api/starships/12/', 'https...</td>\n",
       "      <td>2014-12-09T13:50:51.644000Z</td>\n",
       "      <td>2014-12-20T21:17:56.891000Z</td>\n",
       "      <td>https://swapi.dev/api/people/1/</td>\n",
       "    </tr>\n",
       "    <tr>\n",
       "      <th>1</th>\n",
       "      <td>C-3PO</td>\n",
       "      <td>167</td>\n",
       "      <td>75</td>\n",
       "      <td>NaN</td>\n",
       "      <td>gold</td>\n",
       "      <td>yellow</td>\n",
       "      <td>112BBY</td>\n",
       "      <td>NaN</td>\n",
       "      <td>https://swapi.dev/api/planets/1/</td>\n",
       "      <td>['https://swapi.dev/api/films/1/', 'https://sw...</td>\n",
       "      <td>['https://swapi.dev/api/species/2/']</td>\n",
       "      <td>[]</td>\n",
       "      <td>[]</td>\n",
       "      <td>2014-12-10T15:10:51.357000Z</td>\n",
       "      <td>2014-12-20T21:17:50.309000Z</td>\n",
       "      <td>https://swapi.dev/api/people/2/</td>\n",
       "    </tr>\n",
       "    <tr>\n",
       "      <th>2</th>\n",
       "      <td>R2-D2</td>\n",
       "      <td>96</td>\n",
       "      <td>32</td>\n",
       "      <td>NaN</td>\n",
       "      <td>white, blue</td>\n",
       "      <td>red</td>\n",
       "      <td>33BBY</td>\n",
       "      <td>NaN</td>\n",
       "      <td>https://swapi.dev/api/planets/8/</td>\n",
       "      <td>['https://swapi.dev/api/films/1/', 'https://sw...</td>\n",
       "      <td>['https://swapi.dev/api/species/2/']</td>\n",
       "      <td>[]</td>\n",
       "      <td>[]</td>\n",
       "      <td>2014-12-10T15:11:50.376000Z</td>\n",
       "      <td>2014-12-20T21:17:50.311000Z</td>\n",
       "      <td>https://swapi.dev/api/people/3/</td>\n",
       "    </tr>\n",
       "    <tr>\n",
       "      <th>3</th>\n",
       "      <td>Darth Vader</td>\n",
       "      <td>202</td>\n",
       "      <td>136</td>\n",
       "      <td>none</td>\n",
       "      <td>white</td>\n",
       "      <td>yellow</td>\n",
       "      <td>41.9BBY</td>\n",
       "      <td>male</td>\n",
       "      <td>https://swapi.dev/api/planets/1/</td>\n",
       "      <td>['https://swapi.dev/api/films/1/', 'https://sw...</td>\n",
       "      <td>[]</td>\n",
       "      <td>[]</td>\n",
       "      <td>['https://swapi.dev/api/starships/13/']</td>\n",
       "      <td>2014-12-10T15:18:20.704000Z</td>\n",
       "      <td>2014-12-20T21:17:50.313000Z</td>\n",
       "      <td>https://swapi.dev/api/people/4/</td>\n",
       "    </tr>\n",
       "    <tr>\n",
       "      <th>4</th>\n",
       "      <td>Leia Organa</td>\n",
       "      <td>150</td>\n",
       "      <td>49</td>\n",
       "      <td>brown</td>\n",
       "      <td>light</td>\n",
       "      <td>brown</td>\n",
       "      <td>19BBY</td>\n",
       "      <td>female</td>\n",
       "      <td>https://swapi.dev/api/planets/2/</td>\n",
       "      <td>['https://swapi.dev/api/films/1/', 'https://sw...</td>\n",
       "      <td>[]</td>\n",
       "      <td>['https://swapi.dev/api/vehicles/30/']</td>\n",
       "      <td>[]</td>\n",
       "      <td>2014-12-10T15:20:09.791000Z</td>\n",
       "      <td>2014-12-20T21:17:50.315000Z</td>\n",
       "      <td>https://swapi.dev/api/people/5/</td>\n",
       "    </tr>\n",
       "  </tbody>\n",
       "</table>\n",
       "</div>"
      ],
      "text/plain": [
       "             name height mass hair_color   skin_color eye_color birth_year  \\\n",
       "0  Luke Skywalker    172   77      blond         fair      blue      19BBY   \n",
       "1           C-3PO    167   75        NaN         gold    yellow     112BBY   \n",
       "2           R2-D2     96   32        NaN  white, blue       red      33BBY   \n",
       "3     Darth Vader    202  136       none        white    yellow    41.9BBY   \n",
       "4     Leia Organa    150   49      brown        light     brown      19BBY   \n",
       "\n",
       "   gender                         homeworld  \\\n",
       "0    male  https://swapi.dev/api/planets/1/   \n",
       "1     NaN  https://swapi.dev/api/planets/1/   \n",
       "2     NaN  https://swapi.dev/api/planets/8/   \n",
       "3    male  https://swapi.dev/api/planets/1/   \n",
       "4  female  https://swapi.dev/api/planets/2/   \n",
       "\n",
       "                                               films  \\\n",
       "0  ['https://swapi.dev/api/films/1/', 'https://sw...   \n",
       "1  ['https://swapi.dev/api/films/1/', 'https://sw...   \n",
       "2  ['https://swapi.dev/api/films/1/', 'https://sw...   \n",
       "3  ['https://swapi.dev/api/films/1/', 'https://sw...   \n",
       "4  ['https://swapi.dev/api/films/1/', 'https://sw...   \n",
       "\n",
       "                                species  \\\n",
       "0                                    []   \n",
       "1  ['https://swapi.dev/api/species/2/']   \n",
       "2  ['https://swapi.dev/api/species/2/']   \n",
       "3                                    []   \n",
       "4                                    []   \n",
       "\n",
       "                                            vehicles  \\\n",
       "0  ['https://swapi.dev/api/vehicles/14/', 'https:...   \n",
       "1                                                 []   \n",
       "2                                                 []   \n",
       "3                                                 []   \n",
       "4             ['https://swapi.dev/api/vehicles/30/']   \n",
       "\n",
       "                                           starships  \\\n",
       "0  ['https://swapi.dev/api/starships/12/', 'https...   \n",
       "1                                                 []   \n",
       "2                                                 []   \n",
       "3            ['https://swapi.dev/api/starships/13/']   \n",
       "4                                                 []   \n",
       "\n",
       "                       created                       edited  \\\n",
       "0  2014-12-09T13:50:51.644000Z  2014-12-20T21:17:56.891000Z   \n",
       "1  2014-12-10T15:10:51.357000Z  2014-12-20T21:17:50.309000Z   \n",
       "2  2014-12-10T15:11:50.376000Z  2014-12-20T21:17:50.311000Z   \n",
       "3  2014-12-10T15:18:20.704000Z  2014-12-20T21:17:50.313000Z   \n",
       "4  2014-12-10T15:20:09.791000Z  2014-12-20T21:17:50.315000Z   \n",
       "\n",
       "                               url  \n",
       "0  https://swapi.dev/api/people/1/  \n",
       "1  https://swapi.dev/api/people/2/  \n",
       "2  https://swapi.dev/api/people/3/  \n",
       "3  https://swapi.dev/api/people/4/  \n",
       "4  https://swapi.dev/api/people/5/  "
      ]
     },
     "execution_count": 61,
     "metadata": {},
     "output_type": "execute_result"
    }
   ],
   "source": [
    "ppl_df = aq.star_wars('people/', 'results')\n",
    "ppl_df.head()"
   ]
  },
  {
   "cell_type": "markdown",
   "id": "33786849-8926-405f-8daf-a5cb8dfe25bf",
   "metadata": {
    "jp-MarkdownHeadingCollapsed": true,
    "tags": []
   },
   "source": [
    "## 2. Do the same thing, but for planets."
   ]
  },
  {
   "cell_type": "code",
   "execution_count": 62,
   "id": "02e5ad93-131e-4037-8a7b-f271ceab834d",
   "metadata": {
    "scrolled": true,
    "tags": []
   },
   "outputs": [
    {
     "name": "stdout",
     "output_type": "stream",
     "text": [
      "Query Completed for Planets...\n",
      "CSV File Found, Loading...\n"
     ]
    },
    {
     "data": {
      "text/html": [
       "<div>\n",
       "<style scoped>\n",
       "    .dataframe tbody tr th:only-of-type {\n",
       "        vertical-align: middle;\n",
       "    }\n",
       "\n",
       "    .dataframe tbody tr th {\n",
       "        vertical-align: top;\n",
       "    }\n",
       "\n",
       "    .dataframe thead th {\n",
       "        text-align: right;\n",
       "    }\n",
       "</style>\n",
       "<table border=\"1\" class=\"dataframe\">\n",
       "  <thead>\n",
       "    <tr style=\"text-align: right;\">\n",
       "      <th></th>\n",
       "      <th>name</th>\n",
       "      <th>rotation_period</th>\n",
       "      <th>orbital_period</th>\n",
       "      <th>diameter</th>\n",
       "      <th>climate</th>\n",
       "      <th>gravity</th>\n",
       "      <th>terrain</th>\n",
       "      <th>surface_water</th>\n",
       "      <th>population</th>\n",
       "      <th>residents</th>\n",
       "      <th>films</th>\n",
       "      <th>created</th>\n",
       "      <th>edited</th>\n",
       "      <th>url</th>\n",
       "    </tr>\n",
       "  </thead>\n",
       "  <tbody>\n",
       "    <tr>\n",
       "      <th>0</th>\n",
       "      <td>Tatooine</td>\n",
       "      <td>23</td>\n",
       "      <td>304</td>\n",
       "      <td>10465</td>\n",
       "      <td>arid</td>\n",
       "      <td>1 standard</td>\n",
       "      <td>desert</td>\n",
       "      <td>1</td>\n",
       "      <td>200000</td>\n",
       "      <td>['https://swapi.dev/api/people/1/', 'https://s...</td>\n",
       "      <td>['https://swapi.dev/api/films/1/', 'https://sw...</td>\n",
       "      <td>2014-12-09T13:50:49.641000Z</td>\n",
       "      <td>2014-12-20T20:58:18.411000Z</td>\n",
       "      <td>https://swapi.dev/api/planets/1/</td>\n",
       "    </tr>\n",
       "    <tr>\n",
       "      <th>1</th>\n",
       "      <td>Alderaan</td>\n",
       "      <td>24</td>\n",
       "      <td>364</td>\n",
       "      <td>12500</td>\n",
       "      <td>temperate</td>\n",
       "      <td>1 standard</td>\n",
       "      <td>grasslands, mountains</td>\n",
       "      <td>40</td>\n",
       "      <td>2000000000</td>\n",
       "      <td>['https://swapi.dev/api/people/5/', 'https://s...</td>\n",
       "      <td>['https://swapi.dev/api/films/1/', 'https://sw...</td>\n",
       "      <td>2014-12-10T11:35:48.479000Z</td>\n",
       "      <td>2014-12-20T20:58:18.420000Z</td>\n",
       "      <td>https://swapi.dev/api/planets/2/</td>\n",
       "    </tr>\n",
       "    <tr>\n",
       "      <th>2</th>\n",
       "      <td>Yavin IV</td>\n",
       "      <td>24</td>\n",
       "      <td>4818</td>\n",
       "      <td>10200</td>\n",
       "      <td>temperate, tropical</td>\n",
       "      <td>1 standard</td>\n",
       "      <td>jungle, rainforests</td>\n",
       "      <td>8</td>\n",
       "      <td>1000</td>\n",
       "      <td>[]</td>\n",
       "      <td>['https://swapi.dev/api/films/1/']</td>\n",
       "      <td>2014-12-10T11:37:19.144000Z</td>\n",
       "      <td>2014-12-20T20:58:18.421000Z</td>\n",
       "      <td>https://swapi.dev/api/planets/3/</td>\n",
       "    </tr>\n",
       "    <tr>\n",
       "      <th>3</th>\n",
       "      <td>Hoth</td>\n",
       "      <td>23</td>\n",
       "      <td>549</td>\n",
       "      <td>7200</td>\n",
       "      <td>frozen</td>\n",
       "      <td>1.1 standard</td>\n",
       "      <td>tundra, ice caves, mountain ranges</td>\n",
       "      <td>100</td>\n",
       "      <td>unknown</td>\n",
       "      <td>[]</td>\n",
       "      <td>['https://swapi.dev/api/films/2/']</td>\n",
       "      <td>2014-12-10T11:39:13.934000Z</td>\n",
       "      <td>2014-12-20T20:58:18.423000Z</td>\n",
       "      <td>https://swapi.dev/api/planets/4/</td>\n",
       "    </tr>\n",
       "    <tr>\n",
       "      <th>4</th>\n",
       "      <td>Dagobah</td>\n",
       "      <td>23</td>\n",
       "      <td>341</td>\n",
       "      <td>8900</td>\n",
       "      <td>murky</td>\n",
       "      <td>NaN</td>\n",
       "      <td>swamp, jungles</td>\n",
       "      <td>8</td>\n",
       "      <td>unknown</td>\n",
       "      <td>[]</td>\n",
       "      <td>['https://swapi.dev/api/films/2/', 'https://sw...</td>\n",
       "      <td>2014-12-10T11:42:22.590000Z</td>\n",
       "      <td>2014-12-20T20:58:18.425000Z</td>\n",
       "      <td>https://swapi.dev/api/planets/5/</td>\n",
       "    </tr>\n",
       "  </tbody>\n",
       "</table>\n",
       "</div>"
      ],
      "text/plain": [
       "       name rotation_period orbital_period diameter              climate  \\\n",
       "0  Tatooine              23            304    10465                 arid   \n",
       "1  Alderaan              24            364    12500            temperate   \n",
       "2  Yavin IV              24           4818    10200  temperate, tropical   \n",
       "3      Hoth              23            549     7200               frozen   \n",
       "4   Dagobah              23            341     8900                murky   \n",
       "\n",
       "        gravity                             terrain surface_water  population  \\\n",
       "0    1 standard                              desert             1      200000   \n",
       "1    1 standard               grasslands, mountains            40  2000000000   \n",
       "2    1 standard                 jungle, rainforests             8        1000   \n",
       "3  1.1 standard  tundra, ice caves, mountain ranges           100     unknown   \n",
       "4           NaN                      swamp, jungles             8     unknown   \n",
       "\n",
       "                                           residents  \\\n",
       "0  ['https://swapi.dev/api/people/1/', 'https://s...   \n",
       "1  ['https://swapi.dev/api/people/5/', 'https://s...   \n",
       "2                                                 []   \n",
       "3                                                 []   \n",
       "4                                                 []   \n",
       "\n",
       "                                               films  \\\n",
       "0  ['https://swapi.dev/api/films/1/', 'https://sw...   \n",
       "1  ['https://swapi.dev/api/films/1/', 'https://sw...   \n",
       "2                 ['https://swapi.dev/api/films/1/']   \n",
       "3                 ['https://swapi.dev/api/films/2/']   \n",
       "4  ['https://swapi.dev/api/films/2/', 'https://sw...   \n",
       "\n",
       "                       created                       edited  \\\n",
       "0  2014-12-09T13:50:49.641000Z  2014-12-20T20:58:18.411000Z   \n",
       "1  2014-12-10T11:35:48.479000Z  2014-12-20T20:58:18.420000Z   \n",
       "2  2014-12-10T11:37:19.144000Z  2014-12-20T20:58:18.421000Z   \n",
       "3  2014-12-10T11:39:13.934000Z  2014-12-20T20:58:18.423000Z   \n",
       "4  2014-12-10T11:42:22.590000Z  2014-12-20T20:58:18.425000Z   \n",
       "\n",
       "                                url  \n",
       "0  https://swapi.dev/api/planets/1/  \n",
       "1  https://swapi.dev/api/planets/2/  \n",
       "2  https://swapi.dev/api/planets/3/  \n",
       "3  https://swapi.dev/api/planets/4/  \n",
       "4  https://swapi.dev/api/planets/5/  "
      ]
     },
     "execution_count": 62,
     "metadata": {},
     "output_type": "execute_result"
    }
   ],
   "source": [
    "plt_df = aq.star_wars('planets/', 'results')\n",
    "plt_df.head()"
   ]
  },
  {
   "cell_type": "markdown",
   "id": "5c83ed6b-064e-4ac0-bb08-e591f452c094",
   "metadata": {
    "jp-MarkdownHeadingCollapsed": true,
    "tags": []
   },
   "source": [
    "## 3. Extract the data for starships."
   ]
  },
  {
   "cell_type": "code",
   "execution_count": 63,
   "id": "fa4a3e97-69e6-4239-8ff1-ab29b4f20cd4",
   "metadata": {
    "scrolled": true,
    "tags": []
   },
   "outputs": [
    {
     "name": "stdout",
     "output_type": "stream",
     "text": [
      "Query Completed for Starships...\n",
      "CSV File Found, Loading...\n"
     ]
    },
    {
     "data": {
      "text/html": [
       "<div>\n",
       "<style scoped>\n",
       "    .dataframe tbody tr th:only-of-type {\n",
       "        vertical-align: middle;\n",
       "    }\n",
       "\n",
       "    .dataframe tbody tr th {\n",
       "        vertical-align: top;\n",
       "    }\n",
       "\n",
       "    .dataframe thead th {\n",
       "        text-align: right;\n",
       "    }\n",
       "</style>\n",
       "<table border=\"1\" class=\"dataframe\">\n",
       "  <thead>\n",
       "    <tr style=\"text-align: right;\">\n",
       "      <th></th>\n",
       "      <th>name</th>\n",
       "      <th>model</th>\n",
       "      <th>manufacturer</th>\n",
       "      <th>cost_in_credits</th>\n",
       "      <th>length</th>\n",
       "      <th>max_atmosphering_speed</th>\n",
       "      <th>crew</th>\n",
       "      <th>passengers</th>\n",
       "      <th>cargo_capacity</th>\n",
       "      <th>consumables</th>\n",
       "      <th>hyperdrive_rating</th>\n",
       "      <th>MGLT</th>\n",
       "      <th>starship_class</th>\n",
       "      <th>pilots</th>\n",
       "      <th>films</th>\n",
       "      <th>created</th>\n",
       "      <th>edited</th>\n",
       "      <th>url</th>\n",
       "    </tr>\n",
       "  </thead>\n",
       "  <tbody>\n",
       "    <tr>\n",
       "      <th>0</th>\n",
       "      <td>CR90 corvette</td>\n",
       "      <td>CR90 corvette</td>\n",
       "      <td>Corellian Engineering Corporation</td>\n",
       "      <td>3500000</td>\n",
       "      <td>150</td>\n",
       "      <td>950</td>\n",
       "      <td>30-165</td>\n",
       "      <td>600</td>\n",
       "      <td>3000000</td>\n",
       "      <td>1 year</td>\n",
       "      <td>2.0</td>\n",
       "      <td>60</td>\n",
       "      <td>corvette</td>\n",
       "      <td>[]</td>\n",
       "      <td>['https://swapi.dev/api/films/1/', 'https://sw...</td>\n",
       "      <td>2014-12-10T14:20:33.369000Z</td>\n",
       "      <td>2014-12-20T21:23:49.867000Z</td>\n",
       "      <td>https://swapi.dev/api/starships/2/</td>\n",
       "    </tr>\n",
       "    <tr>\n",
       "      <th>1</th>\n",
       "      <td>Star Destroyer</td>\n",
       "      <td>Imperial I-class Star Destroyer</td>\n",
       "      <td>Kuat Drive Yards</td>\n",
       "      <td>150000000</td>\n",
       "      <td>1,600</td>\n",
       "      <td>975</td>\n",
       "      <td>47,060</td>\n",
       "      <td>NaN</td>\n",
       "      <td>36000000</td>\n",
       "      <td>2 years</td>\n",
       "      <td>2.0</td>\n",
       "      <td>60</td>\n",
       "      <td>Star Destroyer</td>\n",
       "      <td>[]</td>\n",
       "      <td>['https://swapi.dev/api/films/1/', 'https://sw...</td>\n",
       "      <td>2014-12-10T15:08:19.848000Z</td>\n",
       "      <td>2014-12-20T21:23:49.870000Z</td>\n",
       "      <td>https://swapi.dev/api/starships/3/</td>\n",
       "    </tr>\n",
       "    <tr>\n",
       "      <th>2</th>\n",
       "      <td>Sentinel-class landing craft</td>\n",
       "      <td>Sentinel-class landing craft</td>\n",
       "      <td>Sienar Fleet Systems, Cyngus Spaceworks</td>\n",
       "      <td>240000</td>\n",
       "      <td>38</td>\n",
       "      <td>1000</td>\n",
       "      <td>5</td>\n",
       "      <td>75</td>\n",
       "      <td>180000</td>\n",
       "      <td>1 month</td>\n",
       "      <td>1.0</td>\n",
       "      <td>70</td>\n",
       "      <td>landing craft</td>\n",
       "      <td>[]</td>\n",
       "      <td>['https://swapi.dev/api/films/1/']</td>\n",
       "      <td>2014-12-10T15:48:00.586000Z</td>\n",
       "      <td>2014-12-20T21:23:49.873000Z</td>\n",
       "      <td>https://swapi.dev/api/starships/5/</td>\n",
       "    </tr>\n",
       "    <tr>\n",
       "      <th>3</th>\n",
       "      <td>Death Star</td>\n",
       "      <td>DS-1 Orbital Battle Station</td>\n",
       "      <td>Imperial Department of Military Research, Sien...</td>\n",
       "      <td>1000000000000</td>\n",
       "      <td>120000</td>\n",
       "      <td>NaN</td>\n",
       "      <td>342,953</td>\n",
       "      <td>843,342</td>\n",
       "      <td>1000000000000</td>\n",
       "      <td>3 years</td>\n",
       "      <td>4.0</td>\n",
       "      <td>10</td>\n",
       "      <td>Deep Space Mobile Battlestation</td>\n",
       "      <td>[]</td>\n",
       "      <td>['https://swapi.dev/api/films/1/']</td>\n",
       "      <td>2014-12-10T16:36:50.509000Z</td>\n",
       "      <td>2014-12-20T21:26:24.783000Z</td>\n",
       "      <td>https://swapi.dev/api/starships/9/</td>\n",
       "    </tr>\n",
       "    <tr>\n",
       "      <th>4</th>\n",
       "      <td>Millennium Falcon</td>\n",
       "      <td>YT-1300 light freighter</td>\n",
       "      <td>Corellian Engineering Corporation</td>\n",
       "      <td>100000</td>\n",
       "      <td>34.37</td>\n",
       "      <td>1050</td>\n",
       "      <td>4</td>\n",
       "      <td>6</td>\n",
       "      <td>100000</td>\n",
       "      <td>2 months</td>\n",
       "      <td>0.5</td>\n",
       "      <td>75</td>\n",
       "      <td>Light freighter</td>\n",
       "      <td>['https://swapi.dev/api/people/13/', 'https://...</td>\n",
       "      <td>['https://swapi.dev/api/films/1/', 'https://sw...</td>\n",
       "      <td>2014-12-10T16:59:45.094000Z</td>\n",
       "      <td>2014-12-20T21:23:49.880000Z</td>\n",
       "      <td>https://swapi.dev/api/starships/10/</td>\n",
       "    </tr>\n",
       "  </tbody>\n",
       "</table>\n",
       "</div>"
      ],
      "text/plain": [
       "                           name                            model  \\\n",
       "0                 CR90 corvette                    CR90 corvette   \n",
       "1                Star Destroyer  Imperial I-class Star Destroyer   \n",
       "2  Sentinel-class landing craft     Sentinel-class landing craft   \n",
       "3                    Death Star      DS-1 Orbital Battle Station   \n",
       "4             Millennium Falcon          YT-1300 light freighter   \n",
       "\n",
       "                                        manufacturer cost_in_credits  length  \\\n",
       "0                  Corellian Engineering Corporation         3500000     150   \n",
       "1                                   Kuat Drive Yards       150000000   1,600   \n",
       "2            Sienar Fleet Systems, Cyngus Spaceworks          240000      38   \n",
       "3  Imperial Department of Military Research, Sien...   1000000000000  120000   \n",
       "4                  Corellian Engineering Corporation          100000   34.37   \n",
       "\n",
       "  max_atmosphering_speed     crew passengers cargo_capacity consumables  \\\n",
       "0                    950   30-165        600        3000000      1 year   \n",
       "1                    975   47,060        NaN       36000000     2 years   \n",
       "2                   1000        5         75         180000     1 month   \n",
       "3                    NaN  342,953    843,342  1000000000000     3 years   \n",
       "4                   1050        4          6         100000    2 months   \n",
       "\n",
       "  hyperdrive_rating MGLT                   starship_class  \\\n",
       "0               2.0   60                         corvette   \n",
       "1               2.0   60                   Star Destroyer   \n",
       "2               1.0   70                    landing craft   \n",
       "3               4.0   10  Deep Space Mobile Battlestation   \n",
       "4               0.5   75                  Light freighter   \n",
       "\n",
       "                                              pilots  \\\n",
       "0                                                 []   \n",
       "1                                                 []   \n",
       "2                                                 []   \n",
       "3                                                 []   \n",
       "4  ['https://swapi.dev/api/people/13/', 'https://...   \n",
       "\n",
       "                                               films  \\\n",
       "0  ['https://swapi.dev/api/films/1/', 'https://sw...   \n",
       "1  ['https://swapi.dev/api/films/1/', 'https://sw...   \n",
       "2                 ['https://swapi.dev/api/films/1/']   \n",
       "3                 ['https://swapi.dev/api/films/1/']   \n",
       "4  ['https://swapi.dev/api/films/1/', 'https://sw...   \n",
       "\n",
       "                       created                       edited  \\\n",
       "0  2014-12-10T14:20:33.369000Z  2014-12-20T21:23:49.867000Z   \n",
       "1  2014-12-10T15:08:19.848000Z  2014-12-20T21:23:49.870000Z   \n",
       "2  2014-12-10T15:48:00.586000Z  2014-12-20T21:23:49.873000Z   \n",
       "3  2014-12-10T16:36:50.509000Z  2014-12-20T21:26:24.783000Z   \n",
       "4  2014-12-10T16:59:45.094000Z  2014-12-20T21:23:49.880000Z   \n",
       "\n",
       "                                   url  \n",
       "0   https://swapi.dev/api/starships/2/  \n",
       "1   https://swapi.dev/api/starships/3/  \n",
       "2   https://swapi.dev/api/starships/5/  \n",
       "3   https://swapi.dev/api/starships/9/  \n",
       "4  https://swapi.dev/api/starships/10/  "
      ]
     },
     "execution_count": 63,
     "metadata": {},
     "output_type": "execute_result"
    }
   ],
   "source": [
    "ship_df = aq.star_wars('starships/', 'results')\n",
    "ship_df.head()"
   ]
  },
  {
   "cell_type": "markdown",
   "id": "981c0fb5-0dbe-47b6-8603-65217dfda604",
   "metadata": {
    "jp-MarkdownHeadingCollapsed": true,
    "tags": []
   },
   "source": [
    "## 4. Save the data in your files to local csv files so that it will be faster to access in the future."
   ]
  },
  {
   "cell_type": "code",
   "execution_count": 52,
   "id": "43b5b1ca-afa0-4c2f-9f43-5dc98179e6e2",
   "metadata": {},
   "outputs": [],
   "source": [
    "# In the function!"
   ]
  },
  {
   "cell_type": "markdown",
   "id": "d8ea5588-f3bd-4890-9024-94f72454ef2f",
   "metadata": {
    "jp-MarkdownHeadingCollapsed": true,
    "tags": []
   },
   "source": [
    "## 5. Combine the data from your three separate dataframes into one large dataframe."
   ]
  },
  {
   "cell_type": "code",
   "execution_count": 55,
   "id": "6dc440db-d252-4253-b285-0a1867244bfa",
   "metadata": {
    "scrolled": true,
    "tags": []
   },
   "outputs": [
    {
     "data": {
      "text/html": [
       "<div>\n",
       "<style scoped>\n",
       "    .dataframe tbody tr th:only-of-type {\n",
       "        vertical-align: middle;\n",
       "    }\n",
       "\n",
       "    .dataframe tbody tr th {\n",
       "        vertical-align: top;\n",
       "    }\n",
       "\n",
       "    .dataframe thead th {\n",
       "        text-align: right;\n",
       "    }\n",
       "</style>\n",
       "<table border=\"1\" class=\"dataframe\">\n",
       "  <thead>\n",
       "    <tr style=\"text-align: right;\">\n",
       "      <th></th>\n",
       "      <th>index</th>\n",
       "      <th>name</th>\n",
       "      <th>height</th>\n",
       "      <th>mass</th>\n",
       "      <th>hair_color</th>\n",
       "      <th>skin_color</th>\n",
       "      <th>eye_color</th>\n",
       "      <th>birth_year</th>\n",
       "      <th>gender</th>\n",
       "      <th>homeworld</th>\n",
       "      <th>...</th>\n",
       "      <th>length</th>\n",
       "      <th>max_atmosphering_speed</th>\n",
       "      <th>crew</th>\n",
       "      <th>passengers</th>\n",
       "      <th>cargo_capacity</th>\n",
       "      <th>consumables</th>\n",
       "      <th>hyperdrive_rating</th>\n",
       "      <th>MGLT</th>\n",
       "      <th>starship_class</th>\n",
       "      <th>pilots</th>\n",
       "    </tr>\n",
       "  </thead>\n",
       "  <tbody>\n",
       "    <tr>\n",
       "      <th>0</th>\n",
       "      <td>0</td>\n",
       "      <td>Luke Skywalker</td>\n",
       "      <td>172</td>\n",
       "      <td>77</td>\n",
       "      <td>blond</td>\n",
       "      <td>fair</td>\n",
       "      <td>blue</td>\n",
       "      <td>19BBY</td>\n",
       "      <td>male</td>\n",
       "      <td>https://swapi.dev/api/planets/1/</td>\n",
       "      <td>...</td>\n",
       "      <td>NaN</td>\n",
       "      <td>NaN</td>\n",
       "      <td>NaN</td>\n",
       "      <td>NaN</td>\n",
       "      <td>NaN</td>\n",
       "      <td>NaN</td>\n",
       "      <td>NaN</td>\n",
       "      <td>NaN</td>\n",
       "      <td>NaN</td>\n",
       "      <td>NaN</td>\n",
       "    </tr>\n",
       "    <tr>\n",
       "      <th>1</th>\n",
       "      <td>1</td>\n",
       "      <td>C-3PO</td>\n",
       "      <td>167</td>\n",
       "      <td>75</td>\n",
       "      <td>NaN</td>\n",
       "      <td>gold</td>\n",
       "      <td>yellow</td>\n",
       "      <td>112BBY</td>\n",
       "      <td>NaN</td>\n",
       "      <td>https://swapi.dev/api/planets/1/</td>\n",
       "      <td>...</td>\n",
       "      <td>NaN</td>\n",
       "      <td>NaN</td>\n",
       "      <td>NaN</td>\n",
       "      <td>NaN</td>\n",
       "      <td>NaN</td>\n",
       "      <td>NaN</td>\n",
       "      <td>NaN</td>\n",
       "      <td>NaN</td>\n",
       "      <td>NaN</td>\n",
       "      <td>NaN</td>\n",
       "    </tr>\n",
       "    <tr>\n",
       "      <th>2</th>\n",
       "      <td>2</td>\n",
       "      <td>R2-D2</td>\n",
       "      <td>96</td>\n",
       "      <td>32</td>\n",
       "      <td>NaN</td>\n",
       "      <td>white, blue</td>\n",
       "      <td>red</td>\n",
       "      <td>33BBY</td>\n",
       "      <td>NaN</td>\n",
       "      <td>https://swapi.dev/api/planets/8/</td>\n",
       "      <td>...</td>\n",
       "      <td>NaN</td>\n",
       "      <td>NaN</td>\n",
       "      <td>NaN</td>\n",
       "      <td>NaN</td>\n",
       "      <td>NaN</td>\n",
       "      <td>NaN</td>\n",
       "      <td>NaN</td>\n",
       "      <td>NaN</td>\n",
       "      <td>NaN</td>\n",
       "      <td>NaN</td>\n",
       "    </tr>\n",
       "    <tr>\n",
       "      <th>3</th>\n",
       "      <td>3</td>\n",
       "      <td>Darth Vader</td>\n",
       "      <td>202</td>\n",
       "      <td>136</td>\n",
       "      <td>none</td>\n",
       "      <td>white</td>\n",
       "      <td>yellow</td>\n",
       "      <td>41.9BBY</td>\n",
       "      <td>male</td>\n",
       "      <td>https://swapi.dev/api/planets/1/</td>\n",
       "      <td>...</td>\n",
       "      <td>NaN</td>\n",
       "      <td>NaN</td>\n",
       "      <td>NaN</td>\n",
       "      <td>NaN</td>\n",
       "      <td>NaN</td>\n",
       "      <td>NaN</td>\n",
       "      <td>NaN</td>\n",
       "      <td>NaN</td>\n",
       "      <td>NaN</td>\n",
       "      <td>NaN</td>\n",
       "    </tr>\n",
       "    <tr>\n",
       "      <th>4</th>\n",
       "      <td>4</td>\n",
       "      <td>Leia Organa</td>\n",
       "      <td>150</td>\n",
       "      <td>49</td>\n",
       "      <td>brown</td>\n",
       "      <td>light</td>\n",
       "      <td>brown</td>\n",
       "      <td>19BBY</td>\n",
       "      <td>female</td>\n",
       "      <td>https://swapi.dev/api/planets/2/</td>\n",
       "      <td>...</td>\n",
       "      <td>NaN</td>\n",
       "      <td>NaN</td>\n",
       "      <td>NaN</td>\n",
       "      <td>NaN</td>\n",
       "      <td>NaN</td>\n",
       "      <td>NaN</td>\n",
       "      <td>NaN</td>\n",
       "      <td>NaN</td>\n",
       "      <td>NaN</td>\n",
       "      <td>NaN</td>\n",
       "    </tr>\n",
       "    <tr>\n",
       "      <th>...</th>\n",
       "      <td>...</td>\n",
       "      <td>...</td>\n",
       "      <td>...</td>\n",
       "      <td>...</td>\n",
       "      <td>...</td>\n",
       "      <td>...</td>\n",
       "      <td>...</td>\n",
       "      <td>...</td>\n",
       "      <td>...</td>\n",
       "      <td>...</td>\n",
       "      <td>...</td>\n",
       "      <td>...</td>\n",
       "      <td>...</td>\n",
       "      <td>...</td>\n",
       "      <td>...</td>\n",
       "      <td>...</td>\n",
       "      <td>...</td>\n",
       "      <td>...</td>\n",
       "      <td>...</td>\n",
       "      <td>...</td>\n",
       "      <td>...</td>\n",
       "    </tr>\n",
       "    <tr>\n",
       "      <th>173</th>\n",
       "      <td>31</td>\n",
       "      <td>Jedi Interceptor</td>\n",
       "      <td>NaN</td>\n",
       "      <td>NaN</td>\n",
       "      <td>NaN</td>\n",
       "      <td>NaN</td>\n",
       "      <td>NaN</td>\n",
       "      <td>NaN</td>\n",
       "      <td>NaN</td>\n",
       "      <td>NaN</td>\n",
       "      <td>...</td>\n",
       "      <td>5.47</td>\n",
       "      <td>1500</td>\n",
       "      <td>1</td>\n",
       "      <td>0</td>\n",
       "      <td>60</td>\n",
       "      <td>2 days</td>\n",
       "      <td>1.0</td>\n",
       "      <td>unknown</td>\n",
       "      <td>starfighter</td>\n",
       "      <td>[https://swapi.dev/api/people/10/, https://swa...</td>\n",
       "    </tr>\n",
       "    <tr>\n",
       "      <th>174</th>\n",
       "      <td>32</td>\n",
       "      <td>arc-170</td>\n",
       "      <td>NaN</td>\n",
       "      <td>NaN</td>\n",
       "      <td>NaN</td>\n",
       "      <td>NaN</td>\n",
       "      <td>NaN</td>\n",
       "      <td>NaN</td>\n",
       "      <td>NaN</td>\n",
       "      <td>NaN</td>\n",
       "      <td>...</td>\n",
       "      <td>14.5</td>\n",
       "      <td>1000</td>\n",
       "      <td>3</td>\n",
       "      <td>0</td>\n",
       "      <td>110</td>\n",
       "      <td>5 days</td>\n",
       "      <td>1.0</td>\n",
       "      <td>100</td>\n",
       "      <td>starfighter</td>\n",
       "      <td>[]</td>\n",
       "    </tr>\n",
       "    <tr>\n",
       "      <th>175</th>\n",
       "      <td>33</td>\n",
       "      <td>Banking clan frigte</td>\n",
       "      <td>NaN</td>\n",
       "      <td>NaN</td>\n",
       "      <td>NaN</td>\n",
       "      <td>NaN</td>\n",
       "      <td>NaN</td>\n",
       "      <td>NaN</td>\n",
       "      <td>NaN</td>\n",
       "      <td>NaN</td>\n",
       "      <td>...</td>\n",
       "      <td>825</td>\n",
       "      <td>unknown</td>\n",
       "      <td>200</td>\n",
       "      <td>unknown</td>\n",
       "      <td>40000000</td>\n",
       "      <td>2 years</td>\n",
       "      <td>1.0</td>\n",
       "      <td>unknown</td>\n",
       "      <td>cruiser</td>\n",
       "      <td>[]</td>\n",
       "    </tr>\n",
       "    <tr>\n",
       "      <th>176</th>\n",
       "      <td>34</td>\n",
       "      <td>Belbullab-22 starfighter</td>\n",
       "      <td>NaN</td>\n",
       "      <td>NaN</td>\n",
       "      <td>NaN</td>\n",
       "      <td>NaN</td>\n",
       "      <td>NaN</td>\n",
       "      <td>NaN</td>\n",
       "      <td>NaN</td>\n",
       "      <td>NaN</td>\n",
       "      <td>...</td>\n",
       "      <td>6.71</td>\n",
       "      <td>1100</td>\n",
       "      <td>1</td>\n",
       "      <td>0</td>\n",
       "      <td>140</td>\n",
       "      <td>7 days</td>\n",
       "      <td>6</td>\n",
       "      <td>unknown</td>\n",
       "      <td>starfighter</td>\n",
       "      <td>[https://swapi.dev/api/people/10/, https://swa...</td>\n",
       "    </tr>\n",
       "    <tr>\n",
       "      <th>177</th>\n",
       "      <td>35</td>\n",
       "      <td>V-wing</td>\n",
       "      <td>NaN</td>\n",
       "      <td>NaN</td>\n",
       "      <td>NaN</td>\n",
       "      <td>NaN</td>\n",
       "      <td>NaN</td>\n",
       "      <td>NaN</td>\n",
       "      <td>NaN</td>\n",
       "      <td>NaN</td>\n",
       "      <td>...</td>\n",
       "      <td>7.9</td>\n",
       "      <td>1050</td>\n",
       "      <td>1</td>\n",
       "      <td>0</td>\n",
       "      <td>60</td>\n",
       "      <td>15 hours</td>\n",
       "      <td>1.0</td>\n",
       "      <td>unknown</td>\n",
       "      <td>starfighter</td>\n",
       "      <td>[]</td>\n",
       "    </tr>\n",
       "  </tbody>\n",
       "</table>\n",
       "<p>178 rows × 39 columns</p>\n",
       "</div>"
      ],
      "text/plain": [
       "     index                      name height mass hair_color   skin_color  \\\n",
       "0        0            Luke Skywalker    172   77      blond         fair   \n",
       "1        1                     C-3PO    167   75        NaN         gold   \n",
       "2        2                     R2-D2     96   32        NaN  white, blue   \n",
       "3        3               Darth Vader    202  136       none        white   \n",
       "4        4               Leia Organa    150   49      brown        light   \n",
       "..     ...                       ...    ...  ...        ...          ...   \n",
       "173     31          Jedi Interceptor    NaN  NaN        NaN          NaN   \n",
       "174     32                   arc-170    NaN  NaN        NaN          NaN   \n",
       "175     33       Banking clan frigte    NaN  NaN        NaN          NaN   \n",
       "176     34  Belbullab-22 starfighter    NaN  NaN        NaN          NaN   \n",
       "177     35                    V-wing    NaN  NaN        NaN          NaN   \n",
       "\n",
       "    eye_color birth_year  gender                         homeworld  ...  \\\n",
       "0        blue      19BBY    male  https://swapi.dev/api/planets/1/  ...   \n",
       "1      yellow     112BBY     NaN  https://swapi.dev/api/planets/1/  ...   \n",
       "2         red      33BBY     NaN  https://swapi.dev/api/planets/8/  ...   \n",
       "3      yellow    41.9BBY    male  https://swapi.dev/api/planets/1/  ...   \n",
       "4       brown      19BBY  female  https://swapi.dev/api/planets/2/  ...   \n",
       "..        ...        ...     ...                               ...  ...   \n",
       "173       NaN        NaN     NaN                               NaN  ...   \n",
       "174       NaN        NaN     NaN                               NaN  ...   \n",
       "175       NaN        NaN     NaN                               NaN  ...   \n",
       "176       NaN        NaN     NaN                               NaN  ...   \n",
       "177       NaN        NaN     NaN                               NaN  ...   \n",
       "\n",
       "    length max_atmosphering_speed crew passengers cargo_capacity consumables  \\\n",
       "0      NaN                    NaN  NaN        NaN            NaN         NaN   \n",
       "1      NaN                    NaN  NaN        NaN            NaN         NaN   \n",
       "2      NaN                    NaN  NaN        NaN            NaN         NaN   \n",
       "3      NaN                    NaN  NaN        NaN            NaN         NaN   \n",
       "4      NaN                    NaN  NaN        NaN            NaN         NaN   \n",
       "..     ...                    ...  ...        ...            ...         ...   \n",
       "173   5.47                   1500    1          0             60      2 days   \n",
       "174   14.5                   1000    3          0            110      5 days   \n",
       "175    825                unknown  200    unknown       40000000     2 years   \n",
       "176   6.71                   1100    1          0            140      7 days   \n",
       "177    7.9                   1050    1          0             60    15 hours   \n",
       "\n",
       "    hyperdrive_rating     MGLT starship_class  \\\n",
       "0                 NaN      NaN            NaN   \n",
       "1                 NaN      NaN            NaN   \n",
       "2                 NaN      NaN            NaN   \n",
       "3                 NaN      NaN            NaN   \n",
       "4                 NaN      NaN            NaN   \n",
       "..                ...      ...            ...   \n",
       "173               1.0  unknown    starfighter   \n",
       "174               1.0      100    starfighter   \n",
       "175               1.0  unknown        cruiser   \n",
       "176                 6  unknown    starfighter   \n",
       "177               1.0  unknown    starfighter   \n",
       "\n",
       "                                                pilots  \n",
       "0                                                  NaN  \n",
       "1                                                  NaN  \n",
       "2                                                  NaN  \n",
       "3                                                  NaN  \n",
       "4                                                  NaN  \n",
       "..                                                 ...  \n",
       "173  [https://swapi.dev/api/people/10/, https://swa...  \n",
       "174                                                 []  \n",
       "175                                                 []  \n",
       "176  [https://swapi.dev/api/people/10/, https://swa...  \n",
       "177                                                 []  \n",
       "\n",
       "[178 rows x 39 columns]"
      ]
     },
     "execution_count": 55,
     "metadata": {},
     "output_type": "execute_result"
    }
   ],
   "source": [
    "all_in_one_df = pd.concat([ppl_df, plt_df, ship_df]).reset_index()\n",
    "all_in_one_df"
   ]
  },
  {
   "cell_type": "markdown",
   "id": "9b453536-9655-4b1b-9f59-b3819fabd2a0",
   "metadata": {
    "tags": []
   },
   "source": [
    "## 6. Acquire the Open Power Systems Data for Germany, which has been rapidly expanding its renewable energy production in recent years. The data set includes country-wide totals of electricity consumption, wind power production, and solar power production for 2006-2017. You can get the data here: https://raw.githubusercontent.com/jenfly/opsd/master/opsd_germany_daily.csv"
   ]
  },
  {
   "cell_type": "code",
   "execution_count": 589,
   "id": "b43553d7-3c96-4ce9-86f1-363119dae63d",
   "metadata": {},
   "outputs": [],
   "source": [
    "def germany_energy():\n",
    "    \"\"\"This function loads or writes a CSV file from a hardcoded URL\n",
    "    ---\n",
    "    Format: df = function()\n",
    "    \"\"\"\n",
    "    if os.path.isfile(f\"germany.csv\"):\n",
    "        df = pd.read_csv(f\"germany.csv\", index_col=0)\n",
    "        print(f\"CSV File Found, Loading...\")\n",
    "        \n",
    "    else:\n",
    "        print(f\"CSV Not Found, Writing Data to CSV...\")\n",
    "        df = pd.read_csv(\"https://raw.githubusercontent.com/jenfly/opsd/master/opsd_germany_daily.csv\")\n",
    "        df = df.set_index('Date').sort_index()\n",
    "        \n",
    "        # write to csv\n",
    "        df.to_csv(f\"germany.csv\")\n",
    "        \n",
    "    return df"
   ]
  },
  {
   "cell_type": "code",
   "execution_count": 591,
   "id": "25d1fea2-2b24-4aeb-8bf3-01223b126b55",
   "metadata": {},
   "outputs": [
    {
     "name": "stdout",
     "output_type": "stream",
     "text": [
      "CSV File Found, Loading...\n"
     ]
    },
    {
     "data": {
      "text/html": [
       "<div>\n",
       "<style scoped>\n",
       "    .dataframe tbody tr th:only-of-type {\n",
       "        vertical-align: middle;\n",
       "    }\n",
       "\n",
       "    .dataframe tbody tr th {\n",
       "        vertical-align: top;\n",
       "    }\n",
       "\n",
       "    .dataframe thead th {\n",
       "        text-align: right;\n",
       "    }\n",
       "</style>\n",
       "<table border=\"1\" class=\"dataframe\">\n",
       "  <thead>\n",
       "    <tr style=\"text-align: right;\">\n",
       "      <th></th>\n",
       "      <th>Consumption</th>\n",
       "      <th>Wind</th>\n",
       "      <th>Solar</th>\n",
       "      <th>Wind+Solar</th>\n",
       "    </tr>\n",
       "    <tr>\n",
       "      <th>Date</th>\n",
       "      <th></th>\n",
       "      <th></th>\n",
       "      <th></th>\n",
       "      <th></th>\n",
       "    </tr>\n",
       "  </thead>\n",
       "  <tbody>\n",
       "    <tr>\n",
       "      <th>2006-01-01</th>\n",
       "      <td>1069.184</td>\n",
       "      <td>NaN</td>\n",
       "      <td>NaN</td>\n",
       "      <td>NaN</td>\n",
       "    </tr>\n",
       "    <tr>\n",
       "      <th>2006-01-02</th>\n",
       "      <td>1380.521</td>\n",
       "      <td>NaN</td>\n",
       "      <td>NaN</td>\n",
       "      <td>NaN</td>\n",
       "    </tr>\n",
       "    <tr>\n",
       "      <th>2006-01-03</th>\n",
       "      <td>1442.533</td>\n",
       "      <td>NaN</td>\n",
       "      <td>NaN</td>\n",
       "      <td>NaN</td>\n",
       "    </tr>\n",
       "    <tr>\n",
       "      <th>2006-01-04</th>\n",
       "      <td>1457.217</td>\n",
       "      <td>NaN</td>\n",
       "      <td>NaN</td>\n",
       "      <td>NaN</td>\n",
       "    </tr>\n",
       "    <tr>\n",
       "      <th>2006-01-05</th>\n",
       "      <td>1477.131</td>\n",
       "      <td>NaN</td>\n",
       "      <td>NaN</td>\n",
       "      <td>NaN</td>\n",
       "    </tr>\n",
       "  </tbody>\n",
       "</table>\n",
       "</div>"
      ],
      "text/plain": [
       "            Consumption  Wind  Solar  Wind+Solar\n",
       "Date                                            \n",
       "2006-01-01     1069.184   NaN    NaN         NaN\n",
       "2006-01-02     1380.521   NaN    NaN         NaN\n",
       "2006-01-03     1442.533   NaN    NaN         NaN\n",
       "2006-01-04     1457.217   NaN    NaN         NaN\n",
       "2006-01-05     1477.131   NaN    NaN         NaN"
      ]
     },
     "execution_count": 591,
     "metadata": {},
     "output_type": "execute_result"
    }
   ],
   "source": [
    "germany = germany_energy()\n",
    "germany.head()"
   ]
  },
  {
   "cell_type": "code",
   "execution_count": 592,
   "id": "866228f4-dabd-48e8-992f-533da76a8625",
   "metadata": {},
   "outputs": [
    {
     "data": {
      "text/plain": [
       "<AxesSubplot:xlabel='Date'>"
      ]
     },
     "execution_count": 592,
     "metadata": {},
     "output_type": "execute_result"
    },
    {
     "data": {
      "image/png": "[encoded data removed]",
      "text/plain": [
       "<Figure size 640x480 with 1 Axes>"
      ]
     },
     "metadata": {},
     "output_type": "display_data"
    }
   ],
   "source": [
    "germany.Consumption.plot()"
   ]
  },
  {
   "cell_type": "markdown",
   "id": "3f3fa209-95e5-4db2-b0a5-7971d7f53b74",
   "metadata": {
    "tags": []
   },
   "source": [
    "# Time Series Data Exercises"
   ]
  },
  {
   "cell_type": "markdown",
   "id": "4af573a4-bbca-4e73-bb2d-e0e2464d0556",
   "metadata": {
    "jp-MarkdownHeadingCollapsed": true,
    "tags": []
   },
   "source": [
    "## Misty's Mini Exercise\n",
    "\n",
    "* Import datetime module from the datetime library\n",
    "* Convert the date column to datetime\n",
    "* Subtract one day from each date\n",
    "* Reformat the dates as \"Sun - March 26, 2022\""
   ]
  },
  {
   "cell_type": "code",
   "execution_count": 76,
   "id": "e8e32001-b023-4c05-825a-838d421a4786",
   "metadata": {},
   "outputs": [
    {
     "data": {
      "text/html": [
       "<div>\n",
       "<style scoped>\n",
       "    .dataframe tbody tr th:only-of-type {\n",
       "        vertical-align: middle;\n",
       "    }\n",
       "\n",
       "    .dataframe tbody tr th {\n",
       "        vertical-align: top;\n",
       "    }\n",
       "\n",
       "    .dataframe thead th {\n",
       "        text-align: right;\n",
       "    }\n",
       "</style>\n",
       "<table border=\"1\" class=\"dataframe\">\n",
       "  <thead>\n",
       "    <tr style=\"text-align: right;\">\n",
       "      <th></th>\n",
       "      <th>date</th>\n",
       "    </tr>\n",
       "  </thead>\n",
       "  <tbody>\n",
       "    <tr>\n",
       "      <th>0</th>\n",
       "      <td>Mar - 27 - 2022</td>\n",
       "    </tr>\n",
       "    <tr>\n",
       "      <th>1</th>\n",
       "      <td>May - 22 - 2022</td>\n",
       "    </tr>\n",
       "    <tr>\n",
       "      <th>2</th>\n",
       "      <td>May - 16 - 2022</td>\n",
       "    </tr>\n",
       "    <tr>\n",
       "      <th>3</th>\n",
       "      <td>Aug - 22 - 2022</td>\n",
       "    </tr>\n",
       "    <tr>\n",
       "      <th>4</th>\n",
       "      <td>Mar - 15 - 2022</td>\n",
       "    </tr>\n",
       "  </tbody>\n",
       "</table>\n",
       "</div>"
      ],
      "text/plain": [
       "               date\n",
       "0   Mar - 27 - 2022\n",
       "1   May - 22 - 2022\n",
       "2   May - 16 - 2022\n",
       "3   Aug - 22 - 2022\n",
       "4   Mar - 15 - 2022"
      ]
     },
     "execution_count": 76,
     "metadata": {},
     "output_type": "execute_result"
    }
   ],
   "source": [
    "url = 'https://gist.githubusercontent.com/misty-garcia/\\\n",
    "8c099128d3f59c32afaa5aa2c3e4fb62/raw/2a4c06ea955266e276a78af5d2e1083cfd348703/mockdates'\n",
    "df = pd.read_csv(url,sep='\\t')\n",
    "df.head()"
   ]
  },
  {
   "cell_type": "code",
   "execution_count": 88,
   "id": "e1236ae5-bf09-4c1a-9fe2-a457ae499500",
   "metadata": {},
   "outputs": [
    {
     "data": {
      "text/plain": [
       "date    datetime64[ns]\n",
       "dtype: object"
      ]
     },
     "execution_count": 88,
     "metadata": {},
     "output_type": "execute_result"
    }
   ],
   "source": [
    "# converted date to datetime\n",
    "df.date = pd.to_datetime(df.date)\n",
    "df.dtypes"
   ]
  },
  {
   "cell_type": "code",
   "execution_count": 90,
   "id": "9d57b394-278a-4ee5-a51d-7356b300d185",
   "metadata": {},
   "outputs": [
    {
     "data": {
      "text/html": [
       "<div>\n",
       "<style scoped>\n",
       "    .dataframe tbody tr th:only-of-type {\n",
       "        vertical-align: middle;\n",
       "    }\n",
       "\n",
       "    .dataframe tbody tr th {\n",
       "        vertical-align: top;\n",
       "    }\n",
       "\n",
       "    .dataframe thead th {\n",
       "        text-align: right;\n",
       "    }\n",
       "</style>\n",
       "<table border=\"1\" class=\"dataframe\">\n",
       "  <thead>\n",
       "    <tr style=\"text-align: right;\">\n",
       "      <th></th>\n",
       "      <th>date</th>\n",
       "    </tr>\n",
       "  </thead>\n",
       "  <tbody>\n",
       "    <tr>\n",
       "      <th>0</th>\n",
       "      <td>2022-03-26</td>\n",
       "    </tr>\n",
       "    <tr>\n",
       "      <th>1</th>\n",
       "      <td>2022-05-21</td>\n",
       "    </tr>\n",
       "    <tr>\n",
       "      <th>2</th>\n",
       "      <td>2022-05-15</td>\n",
       "    </tr>\n",
       "    <tr>\n",
       "      <th>3</th>\n",
       "      <td>2022-08-21</td>\n",
       "    </tr>\n",
       "    <tr>\n",
       "      <th>4</th>\n",
       "      <td>2022-03-14</td>\n",
       "    </tr>\n",
       "  </tbody>\n",
       "</table>\n",
       "</div>"
      ],
      "text/plain": [
       "        date\n",
       "0 2022-03-26\n",
       "1 2022-05-21\n",
       "2 2022-05-15\n",
       "3 2022-08-21\n",
       "4 2022-03-14"
      ]
     },
     "execution_count": 90,
     "metadata": {},
     "output_type": "execute_result"
    }
   ],
   "source": [
    "# subtract one day from each date\n",
    "df.date = df.date + pd.Timedelta(days=-1)\n",
    "df.head()"
   ]
  },
  {
   "cell_type": "code",
   "execution_count": 91,
   "id": "92789fe6-63af-4f15-ba6a-0e75093be567",
   "metadata": {},
   "outputs": [
    {
     "data": {
      "text/html": [
       "<div>\n",
       "<style scoped>\n",
       "    .dataframe tbody tr th:only-of-type {\n",
       "        vertical-align: middle;\n",
       "    }\n",
       "\n",
       "    .dataframe tbody tr th {\n",
       "        vertical-align: top;\n",
       "    }\n",
       "\n",
       "    .dataframe thead th {\n",
       "        text-align: right;\n",
       "    }\n",
       "</style>\n",
       "<table border=\"1\" class=\"dataframe\">\n",
       "  <thead>\n",
       "    <tr style=\"text-align: right;\">\n",
       "      <th></th>\n",
       "      <th>date</th>\n",
       "    </tr>\n",
       "  </thead>\n",
       "  <tbody>\n",
       "    <tr>\n",
       "      <th>0</th>\n",
       "      <td>Sat - March 26, 2022</td>\n",
       "    </tr>\n",
       "    <tr>\n",
       "      <th>1</th>\n",
       "      <td>Sat - May 21, 2022</td>\n",
       "    </tr>\n",
       "    <tr>\n",
       "      <th>2</th>\n",
       "      <td>Sun - May 15, 2022</td>\n",
       "    </tr>\n",
       "    <tr>\n",
       "      <th>3</th>\n",
       "      <td>Sun - August 21, 2022</td>\n",
       "    </tr>\n",
       "    <tr>\n",
       "      <th>4</th>\n",
       "      <td>Mon - March 14, 2022</td>\n",
       "    </tr>\n",
       "  </tbody>\n",
       "</table>\n",
       "</div>"
      ],
      "text/plain": [
       "                    date\n",
       "0   Sat - March 26, 2022\n",
       "1     Sat - May 21, 2022\n",
       "2     Sun - May 15, 2022\n",
       "3  Sun - August 21, 2022\n",
       "4   Mon - March 14, 2022"
      ]
     },
     "execution_count": 91,
     "metadata": {},
     "output_type": "execute_result"
    }
   ],
   "source": [
    "# reformat the dates as \"Sun - March 26, 2022\"\n",
    "df.date = df.date.dt.strftime('%a - %B %d, %Y')\n",
    "df.head()"
   ]
  },
  {
   "cell_type": "markdown",
   "id": "bde79c58-4f1d-4945-991b-d07ab3090bb9",
   "metadata": {
    "jp-MarkdownHeadingCollapsed": true,
    "tags": []
   },
   "source": [
    "## Temp"
   ]
  },
  {
   "cell_type": "code",
   "execution_count": 479,
   "id": "9329f1a2-1880-4689-8aa5-512620268275",
   "metadata": {},
   "outputs": [
    {
     "data": {
      "text/html": [
       "<div>\n",
       "<style scoped>\n",
       "    .dataframe tbody tr th:only-of-type {\n",
       "        vertical-align: middle;\n",
       "    }\n",
       "\n",
       "    .dataframe tbody tr th {\n",
       "        vertical-align: top;\n",
       "    }\n",
       "\n",
       "    .dataframe thead th {\n",
       "        text-align: right;\n",
       "    }\n",
       "</style>\n",
       "<table border=\"1\" class=\"dataframe\">\n",
       "  <thead>\n",
       "    <tr style=\"text-align: right;\">\n",
       "      <th></th>\n",
       "      <th>temp</th>\n",
       "      <th>date</th>\n",
       "    </tr>\n",
       "  </thead>\n",
       "  <tbody>\n",
       "    <tr>\n",
       "      <th>0</th>\n",
       "      <td>47.8</td>\n",
       "      <td>2010-01-01 00:00:00</td>\n",
       "    </tr>\n",
       "    <tr>\n",
       "      <th>1</th>\n",
       "      <td>47.4</td>\n",
       "      <td>2010-01-01 01:00:00</td>\n",
       "    </tr>\n",
       "    <tr>\n",
       "      <th>2</th>\n",
       "      <td>46.9</td>\n",
       "      <td>2010-01-01 02:00:00</td>\n",
       "    </tr>\n",
       "    <tr>\n",
       "      <th>3</th>\n",
       "      <td>46.5</td>\n",
       "      <td>2010-01-01 03:00:00</td>\n",
       "    </tr>\n",
       "    <tr>\n",
       "      <th>4</th>\n",
       "      <td>46.0</td>\n",
       "      <td>2010-01-01 04:00:00</td>\n",
       "    </tr>\n",
       "  </tbody>\n",
       "</table>\n",
       "</div>"
      ],
      "text/plain": [
       "   temp                date\n",
       "0  47.8 2010-01-01 00:00:00\n",
       "1  47.4 2010-01-01 01:00:00\n",
       "2  46.9 2010-01-01 02:00:00\n",
       "3  46.5 2010-01-01 03:00:00\n",
       "4  46.0 2010-01-01 04:00:00"
      ]
     },
     "execution_count": 479,
     "metadata": {},
     "output_type": "execute_result"
    }
   ],
   "source": [
    "# grab the data\n",
    "df = data.sf_temps()\n",
    "df.head()"
   ]
  },
  {
   "cell_type": "code",
   "execution_count": 480,
   "id": "fe703039-97d6-4a35-82a7-aa391f7c6515",
   "metadata": {},
   "outputs": [
    {
     "data": {
      "text/plain": [
       "temp           float64\n",
       "date    datetime64[ns]\n",
       "dtype: object"
      ]
     },
     "execution_count": 480,
     "metadata": {},
     "output_type": "execute_result"
    }
   ],
   "source": [
    "# inspect date format\n",
    "df.dtypes"
   ]
  },
  {
   "cell_type": "code",
   "execution_count": 481,
   "id": "d35d3f0b-3849-4bc5-8d24-f935e16c85bb",
   "metadata": {},
   "outputs": [
    {
     "data": {
      "text/html": [
       "<div>\n",
       "<style scoped>\n",
       "    .dataframe tbody tr th:only-of-type {\n",
       "        vertical-align: middle;\n",
       "    }\n",
       "\n",
       "    .dataframe tbody tr th {\n",
       "        vertical-align: top;\n",
       "    }\n",
       "\n",
       "    .dataframe thead th {\n",
       "        text-align: right;\n",
       "    }\n",
       "</style>\n",
       "<table border=\"1\" class=\"dataframe\">\n",
       "  <thead>\n",
       "    <tr style=\"text-align: right;\">\n",
       "      <th></th>\n",
       "      <th>temp</th>\n",
       "    </tr>\n",
       "    <tr>\n",
       "      <th>date</th>\n",
       "      <th></th>\n",
       "    </tr>\n",
       "  </thead>\n",
       "  <tbody>\n",
       "    <tr>\n",
       "      <th>2010-01-01 00:00:00</th>\n",
       "      <td>47.8</td>\n",
       "    </tr>\n",
       "    <tr>\n",
       "      <th>2010-01-01 01:00:00</th>\n",
       "      <td>47.4</td>\n",
       "    </tr>\n",
       "    <tr>\n",
       "      <th>2010-01-01 02:00:00</th>\n",
       "      <td>46.9</td>\n",
       "    </tr>\n",
       "    <tr>\n",
       "      <th>2010-01-01 03:00:00</th>\n",
       "      <td>46.5</td>\n",
       "    </tr>\n",
       "    <tr>\n",
       "      <th>2010-01-01 04:00:00</th>\n",
       "      <td>46.0</td>\n",
       "    </tr>\n",
       "  </tbody>\n",
       "</table>\n",
       "</div>"
      ],
      "text/plain": [
       "                     temp\n",
       "date                     \n",
       "2010-01-01 00:00:00  47.8\n",
       "2010-01-01 01:00:00  47.4\n",
       "2010-01-01 02:00:00  46.9\n",
       "2010-01-01 03:00:00  46.5\n",
       "2010-01-01 04:00:00  46.0"
      ]
     },
     "execution_count": 481,
     "metadata": {},
     "output_type": "execute_result"
    }
   ],
   "source": [
    "# set date as index\n",
    "df = df.set_index('date')\n",
    "df.head()"
   ]
  },
  {
   "cell_type": "code",
   "execution_count": 482,
   "id": "b90f597c-a7d3-49ad-9942-1671e125c5f6",
   "metadata": {},
   "outputs": [],
   "source": [
    "# sort the index\n",
    "df = df.sort_index()"
   ]
  },
  {
   "cell_type": "markdown",
   "id": "3816745f-d8da-450b-9703-76f52a937302",
   "metadata": {
    "jp-MarkdownHeadingCollapsed": true,
    "tags": []
   },
   "source": [
    "### 1. Resample by the day and take the average temperature. Visualize the average temperature over time."
   ]
  },
  {
   "cell_type": "code",
   "execution_count": 483,
   "id": "294a40b9-fba9-4f06-9e9a-85a61e71d57a",
   "metadata": {},
   "outputs": [
    {
     "data": {
      "text/html": [
       "<div>\n",
       "<style scoped>\n",
       "    .dataframe tbody tr th:only-of-type {\n",
       "        vertical-align: middle;\n",
       "    }\n",
       "\n",
       "    .dataframe tbody tr th {\n",
       "        vertical-align: top;\n",
       "    }\n",
       "\n",
       "    .dataframe thead th {\n",
       "        text-align: right;\n",
       "    }\n",
       "</style>\n",
       "<table border=\"1\" class=\"dataframe\">\n",
       "  <thead>\n",
       "    <tr style=\"text-align: right;\">\n",
       "      <th></th>\n",
       "      <th>temp</th>\n",
       "    </tr>\n",
       "    <tr>\n",
       "      <th>date</th>\n",
       "      <th></th>\n",
       "    </tr>\n",
       "  </thead>\n",
       "  <tbody>\n",
       "    <tr>\n",
       "      <th>2010-01-01</th>\n",
       "      <td>49.2</td>\n",
       "    </tr>\n",
       "    <tr>\n",
       "      <th>2010-01-02</th>\n",
       "      <td>49.3</td>\n",
       "    </tr>\n",
       "    <tr>\n",
       "      <th>2010-01-03</th>\n",
       "      <td>49.4</td>\n",
       "    </tr>\n",
       "    <tr>\n",
       "      <th>2010-01-04</th>\n",
       "      <td>49.4</td>\n",
       "    </tr>\n",
       "    <tr>\n",
       "      <th>2010-01-05</th>\n",
       "      <td>49.5</td>\n",
       "    </tr>\n",
       "  </tbody>\n",
       "</table>\n",
       "</div>"
      ],
      "text/plain": [
       "            temp\n",
       "date            \n",
       "2010-01-01  49.2\n",
       "2010-01-02  49.3\n",
       "2010-01-03  49.4\n",
       "2010-01-04  49.4\n",
       "2010-01-05  49.5"
      ]
     },
     "execution_count": 483,
     "metadata": {},
     "output_type": "execute_result"
    }
   ],
   "source": [
    "# resample the day and take the mean\n",
    "df.resample('D').mean().round(1).head()"
   ]
  },
  {
   "cell_type": "code",
   "execution_count": 484,
   "id": "9829b375-6264-4e08-9afa-9336c42c5cb0",
   "metadata": {},
   "outputs": [
    {
     "data": {
      "image/png": "[encoded data removed]",
      "text/plain": [
       "<Figure size 1200x800 with 1 Axes>"
      ]
     },
     "metadata": {},
     "output_type": "display_data"
    }
   ],
   "source": [
    "# visualize \n",
    "\n",
    "plt.figure(figsize=(12,8))\n",
    "df.resample('D').mean().round(1).temp.plot(label='daily average')\n",
    "plt.ylabel('Temperature')\n",
    "plt.title('Average Daily Temperature')\n",
    "plt.legend()\n",
    "plt.grid(color='black', linestyle='-', linewidth=.2)\n",
    "plt.show()"
   ]
  },
  {
   "cell_type": "markdown",
   "id": "819cca79-eabf-4ae2-a05a-e931b616ab10",
   "metadata": {
    "tags": []
   },
   "source": [
    "### 2. Write the code necessary to visualize the minimum temperature over time."
   ]
  },
  {
   "cell_type": "code",
   "execution_count": 485,
   "id": "87fe57b7-d73b-4071-8e27-e135e16df36d",
   "metadata": {},
   "outputs": [
    {
     "data": {
      "image/png": "[encoded data removed]",
      "text/plain": [
       "<Figure size 1200x800 with 1 Axes>"
      ]
     },
     "metadata": {},
     "output_type": "display_data"
    }
   ],
   "source": [
    "# visualize \n",
    "\n",
    "plt.figure(figsize=(12,8))\n",
    "df.resample('D').mean().round(1).temp.plot(label='daily average')\n",
    "df.resample('D').agg('min').round(1).temp.plot(label='daily minimum', color='orange')\n",
    "plt.ylabel('Temperature')\n",
    "plt.title('Daily Temperatures')\n",
    "plt.legend()\n",
    "plt.grid(color='black', linestyle='-', linewidth=.2)\n",
    "plt.show()"
   ]
  },
  {
   "cell_type": "markdown",
   "id": "d9d5acfd-0096-4901-8731-0b093a78a906",
   "metadata": {
    "tags": []
   },
   "source": [
    "### 3. Write the code necessary to visualize the maximum temperature over time."
   ]
  },
  {
   "cell_type": "code",
   "execution_count": 486,
   "id": "59ff6077-6834-4412-8bda-b0749e436833",
   "metadata": {},
   "outputs": [
    {
     "data": {
      "image/png": "[encoded data removed]",
      "text/plain": [
       "<Figure size 1200x800 with 1 Axes>"
      ]
     },
     "metadata": {},
     "output_type": "display_data"
    }
   ],
   "source": [
    "# visualize \n",
    "\n",
    "plt.figure(figsize=(12,8))\n",
    "df.resample('D').mean().round(1).temp.plot(label='daily average', color='orange')\n",
    "df.resample('D').agg('min').round(1).temp.plot(label='daily minimum', color='blue')\n",
    "df.resample('D').agg('max').round(1).temp.plot(label='daily maximum', color='red')\n",
    "plt.ylabel('Temperature')\n",
    "plt.title('Daily Temperatures')\n",
    "plt.legend()\n",
    "plt.grid(color='black', linestyle='-', linewidth=.2)\n",
    "plt.show()"
   ]
  },
  {
   "cell_type": "markdown",
   "id": "8a41528d-b791-4e55-9f8a-b56b88582732",
   "metadata": {
    "tags": []
   },
   "source": [
    "### 4. Which month is the coldest, on average?"
   ]
  },
  {
   "cell_type": "code",
   "execution_count": 491,
   "id": "da899594-1a3d-40c7-9535-0e872ae5b67e",
   "metadata": {},
   "outputs": [
    {
     "data": {
      "text/html": [
       "<div>\n",
       "<style scoped>\n",
       "    .dataframe tbody tr th:only-of-type {\n",
       "        vertical-align: middle;\n",
       "    }\n",
       "\n",
       "    .dataframe tbody tr th {\n",
       "        vertical-align: top;\n",
       "    }\n",
       "\n",
       "    .dataframe thead th {\n",
       "        text-align: right;\n",
       "    }\n",
       "</style>\n",
       "<table border=\"1\" class=\"dataframe\">\n",
       "  <thead>\n",
       "    <tr style=\"text-align: right;\">\n",
       "      <th></th>\n",
       "      <th>temp</th>\n",
       "    </tr>\n",
       "    <tr>\n",
       "      <th>date</th>\n",
       "      <th></th>\n",
       "    </tr>\n",
       "  </thead>\n",
       "  <tbody>\n",
       "    <tr>\n",
       "      <th>2010-01-31</th>\n",
       "      <td>49.98</td>\n",
       "    </tr>\n",
       "  </tbody>\n",
       "</table>\n",
       "</div>"
      ],
      "text/plain": [
       "             temp\n",
       "date             \n",
       "2010-01-31  49.98"
      ]
     },
     "execution_count": 491,
     "metadata": {},
     "output_type": "execute_result"
    }
   ],
   "source": [
    "# get the daily mean - January\n",
    "df.resample('M').mean().round(2).sort_values(by='temp').head(1)"
   ]
  },
  {
   "cell_type": "markdown",
   "id": "528e3e3a-71b9-411b-bcd6-425b1349d373",
   "metadata": {
    "tags": []
   },
   "source": [
    "### 5. Which month has the highest average temperature?"
   ]
  },
  {
   "cell_type": "code",
   "execution_count": 494,
   "id": "0cfac802-1ef2-4e56-8c0d-db952efb349c",
   "metadata": {},
   "outputs": [
    {
     "data": {
      "text/html": [
       "<div>\n",
       "<style scoped>\n",
       "    .dataframe tbody tr th:only-of-type {\n",
       "        vertical-align: middle;\n",
       "    }\n",
       "\n",
       "    .dataframe tbody tr th {\n",
       "        vertical-align: top;\n",
       "    }\n",
       "\n",
       "    .dataframe thead th {\n",
       "        text-align: right;\n",
       "    }\n",
       "</style>\n",
       "<table border=\"1\" class=\"dataframe\">\n",
       "  <thead>\n",
       "    <tr style=\"text-align: right;\">\n",
       "      <th></th>\n",
       "      <th>temp</th>\n",
       "    </tr>\n",
       "    <tr>\n",
       "      <th>date</th>\n",
       "      <th></th>\n",
       "    </tr>\n",
       "  </thead>\n",
       "  <tbody>\n",
       "    <tr>\n",
       "      <th>2010-09-30</th>\n",
       "      <td>62.49</td>\n",
       "    </tr>\n",
       "  </tbody>\n",
       "</table>\n",
       "</div>"
      ],
      "text/plain": [
       "             temp\n",
       "date             \n",
       "2010-09-30  62.49"
      ]
     },
     "execution_count": 494,
     "metadata": {},
     "output_type": "execute_result"
    }
   ],
   "source": [
    "# get the daily mean - September\n",
    "df.resample('M').mean().round(2).sort_values(by='temp', ascending=False).head(1)"
   ]
  },
  {
   "cell_type": "markdown",
   "id": "0dc490aa-3832-47c9-86d1-d5f70cf7aa94",
   "metadata": {
    "tags": []
   },
   "source": [
    "### 6. Resample by the day and calculate the min and max temp for the day \n",
    "* (Hint: .agg(['min', 'max'])). \n",
    "* Use this resampled dataframe to calculate the change in temperature for the day.\n",
    "* Which month has the highest daily temperature variability?"
   ]
  },
  {
   "cell_type": "code",
   "execution_count": 209,
   "id": "fdc02eb6-303d-47a8-8777-efa62c6aaa4d",
   "metadata": {},
   "outputs": [
    {
     "data": {
      "text/html": [
       "<div>\n",
       "<style scoped>\n",
       "    .dataframe tbody tr th:only-of-type {\n",
       "        vertical-align: middle;\n",
       "    }\n",
       "\n",
       "    .dataframe tbody tr th {\n",
       "        vertical-align: top;\n",
       "    }\n",
       "\n",
       "    .dataframe thead tr th {\n",
       "        text-align: left;\n",
       "    }\n",
       "\n",
       "    .dataframe thead tr:last-of-type th {\n",
       "        text-align: right;\n",
       "    }\n",
       "</style>\n",
       "<table border=\"1\" class=\"dataframe\">\n",
       "  <thead>\n",
       "    <tr>\n",
       "      <th></th>\n",
       "      <th colspan=\"2\" halign=\"left\">temp</th>\n",
       "    </tr>\n",
       "    <tr>\n",
       "      <th></th>\n",
       "      <th>min</th>\n",
       "      <th>max</th>\n",
       "    </tr>\n",
       "    <tr>\n",
       "      <th>date</th>\n",
       "      <th></th>\n",
       "      <th></th>\n",
       "    </tr>\n",
       "  </thead>\n",
       "  <tbody>\n",
       "    <tr>\n",
       "      <th>2010-01-01</th>\n",
       "      <td>45.8</td>\n",
       "      <td>53.3</td>\n",
       "    </tr>\n",
       "    <tr>\n",
       "      <th>2010-01-02</th>\n",
       "      <td>46.0</td>\n",
       "      <td>53.4</td>\n",
       "    </tr>\n",
       "    <tr>\n",
       "      <th>2010-01-03</th>\n",
       "      <td>46.1</td>\n",
       "      <td>53.5</td>\n",
       "    </tr>\n",
       "    <tr>\n",
       "      <th>2010-01-04</th>\n",
       "      <td>46.1</td>\n",
       "      <td>53.6</td>\n",
       "    </tr>\n",
       "    <tr>\n",
       "      <th>2010-01-05</th>\n",
       "      <td>46.1</td>\n",
       "      <td>53.8</td>\n",
       "    </tr>\n",
       "  </tbody>\n",
       "</table>\n",
       "</div>"
      ],
      "text/plain": [
       "            temp      \n",
       "             min   max\n",
       "date                  \n",
       "2010-01-01  45.8  53.3\n",
       "2010-01-02  46.0  53.4\n",
       "2010-01-03  46.1  53.5\n",
       "2010-01-04  46.1  53.6\n",
       "2010-01-05  46.1  53.8"
      ]
     },
     "execution_count": 209,
     "metadata": {},
     "output_type": "execute_result"
    }
   ],
   "source": [
    "df_temp = df.resample('D').agg(['min', 'max'])\n",
    "df_temp.head()"
   ]
  },
  {
   "cell_type": "code",
   "execution_count": 235,
   "id": "511f4a88-8591-47be-a7c4-856022a9a153",
   "metadata": {},
   "outputs": [
    {
     "data": {
      "text/html": [
       "<div>\n",
       "<style scoped>\n",
       "    .dataframe tbody tr th:only-of-type {\n",
       "        vertical-align: middle;\n",
       "    }\n",
       "\n",
       "    .dataframe tbody tr th {\n",
       "        vertical-align: top;\n",
       "    }\n",
       "\n",
       "    .dataframe thead tr th {\n",
       "        text-align: left;\n",
       "    }\n",
       "\n",
       "    .dataframe thead tr:last-of-type th {\n",
       "        text-align: right;\n",
       "    }\n",
       "</style>\n",
       "<table border=\"1\" class=\"dataframe\">\n",
       "  <thead>\n",
       "    <tr>\n",
       "      <th></th>\n",
       "      <th colspan=\"2\" halign=\"left\">temp</th>\n",
       "      <th>delta</th>\n",
       "    </tr>\n",
       "    <tr>\n",
       "      <th></th>\n",
       "      <th>min</th>\n",
       "      <th>max</th>\n",
       "      <th></th>\n",
       "    </tr>\n",
       "    <tr>\n",
       "      <th>date</th>\n",
       "      <th></th>\n",
       "      <th></th>\n",
       "      <th></th>\n",
       "    </tr>\n",
       "  </thead>\n",
       "  <tbody>\n",
       "    <tr>\n",
       "      <th>2010-01-01</th>\n",
       "      <td>45.8</td>\n",
       "      <td>53.3</td>\n",
       "      <td>7.5</td>\n",
       "    </tr>\n",
       "    <tr>\n",
       "      <th>2010-01-02</th>\n",
       "      <td>46.0</td>\n",
       "      <td>53.4</td>\n",
       "      <td>7.4</td>\n",
       "    </tr>\n",
       "    <tr>\n",
       "      <th>2010-01-03</th>\n",
       "      <td>46.1</td>\n",
       "      <td>53.5</td>\n",
       "      <td>7.4</td>\n",
       "    </tr>\n",
       "    <tr>\n",
       "      <th>2010-01-04</th>\n",
       "      <td>46.1</td>\n",
       "      <td>53.6</td>\n",
       "      <td>7.5</td>\n",
       "    </tr>\n",
       "    <tr>\n",
       "      <th>2010-01-05</th>\n",
       "      <td>46.1</td>\n",
       "      <td>53.8</td>\n",
       "      <td>7.7</td>\n",
       "    </tr>\n",
       "  </tbody>\n",
       "</table>\n",
       "</div>"
      ],
      "text/plain": [
       "            temp       delta\n",
       "             min   max      \n",
       "date                        \n",
       "2010-01-01  45.8  53.3   7.5\n",
       "2010-01-02  46.0  53.4   7.4\n",
       "2010-01-03  46.1  53.5   7.4\n",
       "2010-01-04  46.1  53.6   7.5\n",
       "2010-01-05  46.1  53.8   7.7"
      ]
     },
     "execution_count": 235,
     "metadata": {},
     "output_type": "execute_result"
    }
   ],
   "source": [
    "df_temp['delta'] = df_temp.apply(lambda row: ((row.temp.max()) - (row.temp.min())),axis=1)\n",
    "df_temp.head()"
   ]
  },
  {
   "cell_type": "code",
   "execution_count": 517,
   "id": "25a95990-f123-49c6-817e-5f0ccf5f5e90",
   "metadata": {},
   "outputs": [
    {
     "data": {
      "text/plain": [
       "Timestamp('2010-08-31 00:00:00', freq='M')"
      ]
     },
     "execution_count": 517,
     "metadata": {},
     "output_type": "execute_result"
    }
   ],
   "source": [
    "# resample to month and then idxmax locate the max - August\n",
    "df_temp.resample('M').max()['delta'].idxmax()"
   ]
  },
  {
   "cell_type": "markdown",
   "id": "a5e4a2a0-33fe-40dc-9ea1-f2c583d869e1",
   "metadata": {
    "jp-MarkdownHeadingCollapsed": true,
    "tags": []
   },
   "source": [
    "#### misty's way"
   ]
  },
  {
   "cell_type": "code",
   "execution_count": 505,
   "id": "0544b0f3-4646-404e-b7bb-96640faf732a",
   "metadata": {},
   "outputs": [
    {
     "data": {
      "text/html": [
       "<div>\n",
       "<style scoped>\n",
       "    .dataframe tbody tr th:only-of-type {\n",
       "        vertical-align: middle;\n",
       "    }\n",
       "\n",
       "    .dataframe tbody tr th {\n",
       "        vertical-align: top;\n",
       "    }\n",
       "\n",
       "    .dataframe thead tr th {\n",
       "        text-align: left;\n",
       "    }\n",
       "\n",
       "    .dataframe thead tr:last-of-type th {\n",
       "        text-align: right;\n",
       "    }\n",
       "</style>\n",
       "<table border=\"1\" class=\"dataframe\">\n",
       "  <thead>\n",
       "    <tr>\n",
       "      <th></th>\n",
       "      <th colspan=\"2\" halign=\"left\">temp</th>\n",
       "    </tr>\n",
       "    <tr>\n",
       "      <th></th>\n",
       "      <th>min</th>\n",
       "      <th>max</th>\n",
       "    </tr>\n",
       "    <tr>\n",
       "      <th>date</th>\n",
       "      <th></th>\n",
       "      <th></th>\n",
       "    </tr>\n",
       "  </thead>\n",
       "  <tbody>\n",
       "    <tr>\n",
       "      <th>2010-01-01</th>\n",
       "      <td>45.8</td>\n",
       "      <td>53.3</td>\n",
       "    </tr>\n",
       "    <tr>\n",
       "      <th>2010-01-02</th>\n",
       "      <td>46.0</td>\n",
       "      <td>53.4</td>\n",
       "    </tr>\n",
       "    <tr>\n",
       "      <th>2010-01-03</th>\n",
       "      <td>46.1</td>\n",
       "      <td>53.5</td>\n",
       "    </tr>\n",
       "    <tr>\n",
       "      <th>2010-01-04</th>\n",
       "      <td>46.1</td>\n",
       "      <td>53.6</td>\n",
       "    </tr>\n",
       "    <tr>\n",
       "      <th>2010-01-05</th>\n",
       "      <td>46.1</td>\n",
       "      <td>53.8</td>\n",
       "    </tr>\n",
       "  </tbody>\n",
       "</table>\n",
       "</div>"
      ],
      "text/plain": [
       "            temp      \n",
       "             min   max\n",
       "date                  \n",
       "2010-01-01  45.8  53.3\n",
       "2010-01-02  46.0  53.4\n",
       "2010-01-03  46.1  53.5\n",
       "2010-01-04  46.1  53.6\n",
       "2010-01-05  46.1  53.8"
      ]
     },
     "execution_count": 505,
     "metadata": {},
     "output_type": "execute_result"
    }
   ],
   "source": [
    "# mistys way\n",
    "df_daily = df.resample('D').agg(['min', 'max'])\n",
    "df_daily.head()"
   ]
  },
  {
   "cell_type": "code",
   "execution_count": 508,
   "id": "b124b0fa-02e8-4c56-8ce6-14c416e755f2",
   "metadata": {},
   "outputs": [],
   "source": [
    "df_daily['diff'] = df_daily.temp['max'] - df_daily.temp['min']"
   ]
  },
  {
   "cell_type": "code",
   "execution_count": 518,
   "id": "1af588aa-b9ca-4886-9f19-ec13bd1ea747",
   "metadata": {},
   "outputs": [
    {
     "data": {
      "text/plain": [
       "date\n",
       "2010-08-31    15.0\n",
       "Name: diff, dtype: float64"
      ]
     },
     "execution_count": 518,
     "metadata": {},
     "output_type": "execute_result"
    }
   ],
   "source": [
    "df_daily.resample('M').max()['diff'].sort_values().tail(1)"
   ]
  },
  {
   "cell_type": "markdown",
   "id": "87a79edd-ec47-40b9-ac81-e12b6c524989",
   "metadata": {
    "tags": []
   },
   "source": [
    "### 7. Bonus: Visualize the daily min, average, and max temperature over time on a single line plot, i.e. the min, average, and maximum temperature should be 3 seperate lines."
   ]
  },
  {
   "cell_type": "code",
   "execution_count": 520,
   "id": "4b79a7d3-b47f-4978-a92c-cde9487ef310",
   "metadata": {},
   "outputs": [
    {
     "data": {
      "image/png": "[encoded data removed]",
      "text/plain": [
       "<Figure size 1200x800 with 1 Axes>"
      ]
     },
     "metadata": {},
     "output_type": "display_data"
    }
   ],
   "source": [
    "# visualize - I liked it this way becauase I could change the color of each line\n",
    "\n",
    "plt.figure(figsize=(12,8))\n",
    "df.resample('D').mean().round(1).temp.plot(label='average', color='orange')\n",
    "df.resample('D').agg('min').round(1).temp.plot(label='minimum', color='blue')\n",
    "df.resample('D').agg('max').round(1).temp.plot(label='maximum', color='red')\n",
    "plt.ylabel('Temperature')\n",
    "plt.title('Daily Temperatures')\n",
    "plt.legend()\n",
    "plt.grid(color='black', linestyle='-', linewidth=.2)\n",
    "plt.show()"
   ]
  },
  {
   "cell_type": "markdown",
   "id": "53ef1ec6-6f47-421d-b146-faf376bbdcf7",
   "metadata": {
    "jp-MarkdownHeadingCollapsed": true,
    "tags": []
   },
   "source": [
    "## Seattle Weather"
   ]
  },
  {
   "cell_type": "code",
   "execution_count": 522,
   "id": "59c5d1ac-f14d-4d8f-af71-ee3582ab247c",
   "metadata": {},
   "outputs": [
    {
     "data": {
      "text/html": [
       "<div>\n",
       "<style scoped>\n",
       "    .dataframe tbody tr th:only-of-type {\n",
       "        vertical-align: middle;\n",
       "    }\n",
       "\n",
       "    .dataframe tbody tr th {\n",
       "        vertical-align: top;\n",
       "    }\n",
       "\n",
       "    .dataframe thead th {\n",
       "        text-align: right;\n",
       "    }\n",
       "</style>\n",
       "<table border=\"1\" class=\"dataframe\">\n",
       "  <thead>\n",
       "    <tr style=\"text-align: right;\">\n",
       "      <th></th>\n",
       "      <th>date</th>\n",
       "      <th>precipitation</th>\n",
       "      <th>temp_max</th>\n",
       "      <th>temp_min</th>\n",
       "      <th>wind</th>\n",
       "      <th>weather</th>\n",
       "    </tr>\n",
       "  </thead>\n",
       "  <tbody>\n",
       "    <tr>\n",
       "      <th>0</th>\n",
       "      <td>2012-01-01</td>\n",
       "      <td>0.0</td>\n",
       "      <td>12.8</td>\n",
       "      <td>5.0</td>\n",
       "      <td>4.7</td>\n",
       "      <td>drizzle</td>\n",
       "    </tr>\n",
       "    <tr>\n",
       "      <th>1</th>\n",
       "      <td>2012-01-02</td>\n",
       "      <td>10.9</td>\n",
       "      <td>10.6</td>\n",
       "      <td>2.8</td>\n",
       "      <td>4.5</td>\n",
       "      <td>rain</td>\n",
       "    </tr>\n",
       "    <tr>\n",
       "      <th>2</th>\n",
       "      <td>2012-01-03</td>\n",
       "      <td>0.8</td>\n",
       "      <td>11.7</td>\n",
       "      <td>7.2</td>\n",
       "      <td>2.3</td>\n",
       "      <td>rain</td>\n",
       "    </tr>\n",
       "    <tr>\n",
       "      <th>3</th>\n",
       "      <td>2012-01-04</td>\n",
       "      <td>20.3</td>\n",
       "      <td>12.2</td>\n",
       "      <td>5.6</td>\n",
       "      <td>4.7</td>\n",
       "      <td>rain</td>\n",
       "    </tr>\n",
       "    <tr>\n",
       "      <th>4</th>\n",
       "      <td>2012-01-05</td>\n",
       "      <td>1.3</td>\n",
       "      <td>8.9</td>\n",
       "      <td>2.8</td>\n",
       "      <td>6.1</td>\n",
       "      <td>rain</td>\n",
       "    </tr>\n",
       "  </tbody>\n",
       "</table>\n",
       "</div>"
      ],
      "text/plain": [
       "        date  precipitation  temp_max  temp_min  wind  weather\n",
       "0 2012-01-01            0.0      12.8       5.0   4.7  drizzle\n",
       "1 2012-01-02           10.9      10.6       2.8   4.5     rain\n",
       "2 2012-01-03            0.8      11.7       7.2   2.3     rain\n",
       "3 2012-01-04           20.3      12.2       5.6   4.7     rain\n",
       "4 2012-01-05            1.3       8.9       2.8   6.1     rain"
      ]
     },
     "execution_count": 522,
     "metadata": {},
     "output_type": "execute_result"
    }
   ],
   "source": [
    "# get data\n",
    "df = data.seattle_weather()\n",
    "df.head()"
   ]
  },
  {
   "cell_type": "code",
   "execution_count": 523,
   "id": "8efad11a-8a77-40c2-b340-7f9521eff863",
   "metadata": {},
   "outputs": [
    {
     "name": "stdout",
     "output_type": "stream",
     "text": [
      "<class 'pandas.core.frame.DataFrame'>\n",
      "RangeIndex: 1461 entries, 0 to 1460\n",
      "Data columns (total 6 columns):\n",
      " #   Column         Non-Null Count  Dtype         \n",
      "---  ------         --------------  -----         \n",
      " 0   date           1461 non-null   datetime64[ns]\n",
      " 1   precipitation  1461 non-null   float64       \n",
      " 2   temp_max       1461 non-null   float64       \n",
      " 3   temp_min       1461 non-null   float64       \n",
      " 4   wind           1461 non-null   float64       \n",
      " 5   weather        1461 non-null   object        \n",
      "dtypes: datetime64[ns](1), float64(4), object(1)\n",
      "memory usage: 68.6+ KB\n"
     ]
    }
   ],
   "source": [
    "# look at data\n",
    "df.info()"
   ]
  },
  {
   "cell_type": "code",
   "execution_count": 524,
   "id": "da9ad8bb-6add-44cf-8e63-21bdb22a9881",
   "metadata": {},
   "outputs": [
    {
     "data": {
      "text/html": [
       "<div>\n",
       "<style scoped>\n",
       "    .dataframe tbody tr th:only-of-type {\n",
       "        vertical-align: middle;\n",
       "    }\n",
       "\n",
       "    .dataframe tbody tr th {\n",
       "        vertical-align: top;\n",
       "    }\n",
       "\n",
       "    .dataframe thead th {\n",
       "        text-align: right;\n",
       "    }\n",
       "</style>\n",
       "<table border=\"1\" class=\"dataframe\">\n",
       "  <thead>\n",
       "    <tr style=\"text-align: right;\">\n",
       "      <th></th>\n",
       "      <th>precipitation</th>\n",
       "      <th>temp_max</th>\n",
       "      <th>temp_min</th>\n",
       "      <th>wind</th>\n",
       "      <th>weather</th>\n",
       "    </tr>\n",
       "    <tr>\n",
       "      <th>date</th>\n",
       "      <th></th>\n",
       "      <th></th>\n",
       "      <th></th>\n",
       "      <th></th>\n",
       "      <th></th>\n",
       "    </tr>\n",
       "  </thead>\n",
       "  <tbody>\n",
       "    <tr>\n",
       "      <th>2012-01-01</th>\n",
       "      <td>0.0</td>\n",
       "      <td>12.8</td>\n",
       "      <td>5.0</td>\n",
       "      <td>4.7</td>\n",
       "      <td>drizzle</td>\n",
       "    </tr>\n",
       "    <tr>\n",
       "      <th>2012-01-02</th>\n",
       "      <td>10.9</td>\n",
       "      <td>10.6</td>\n",
       "      <td>2.8</td>\n",
       "      <td>4.5</td>\n",
       "      <td>rain</td>\n",
       "    </tr>\n",
       "    <tr>\n",
       "      <th>2012-01-03</th>\n",
       "      <td>0.8</td>\n",
       "      <td>11.7</td>\n",
       "      <td>7.2</td>\n",
       "      <td>2.3</td>\n",
       "      <td>rain</td>\n",
       "    </tr>\n",
       "    <tr>\n",
       "      <th>2012-01-04</th>\n",
       "      <td>20.3</td>\n",
       "      <td>12.2</td>\n",
       "      <td>5.6</td>\n",
       "      <td>4.7</td>\n",
       "      <td>rain</td>\n",
       "    </tr>\n",
       "    <tr>\n",
       "      <th>2012-01-05</th>\n",
       "      <td>1.3</td>\n",
       "      <td>8.9</td>\n",
       "      <td>2.8</td>\n",
       "      <td>6.1</td>\n",
       "      <td>rain</td>\n",
       "    </tr>\n",
       "  </tbody>\n",
       "</table>\n",
       "</div>"
      ],
      "text/plain": [
       "            precipitation  temp_max  temp_min  wind  weather\n",
       "date                                                        \n",
       "2012-01-01            0.0      12.8       5.0   4.7  drizzle\n",
       "2012-01-02           10.9      10.6       2.8   4.5     rain\n",
       "2012-01-03            0.8      11.7       7.2   2.3     rain\n",
       "2012-01-04           20.3      12.2       5.6   4.7     rain\n",
       "2012-01-05            1.3       8.9       2.8   6.1     rain"
      ]
     },
     "execution_count": 524,
     "metadata": {},
     "output_type": "execute_result"
    }
   ],
   "source": [
    "# set and sort index\n",
    "df = df.set_index('date').sort_index()\n",
    "df.head()"
   ]
  },
  {
   "cell_type": "markdown",
   "id": "9565b2a9-6fab-463d-a1b9-afe4844c54da",
   "metadata": {
    "tags": []
   },
   "source": [
    "### 1. Which year and month combination has the highest amount of precipitation?"
   ]
  },
  {
   "cell_type": "code",
   "execution_count": 526,
   "id": "a492df1c-5607-4cd3-8b04-e08c21bfd5d5",
   "metadata": {},
   "outputs": [
    {
     "data": {
      "text/plain": [
       "date\n",
       "2015-12-31    284.5\n",
       "Name: precipitation, dtype: float64"
      ]
     },
     "execution_count": 526,
     "metadata": {},
     "output_type": "execute_result"
    }
   ],
   "source": [
    "# meat and potatoes - resample by month, summing precip, sort values, display 1 = 2015 Dec\n",
    "df.resample('M').precipitation.sum().round(1).sort_values(ascending=False).head(1)"
   ]
  },
  {
   "cell_type": "markdown",
   "id": "7755d7b5-5e4d-4755-bfdc-9b00e49e62f0",
   "metadata": {},
   "source": [
    "### 2. Visualize the amount of monthly precipitation over time."
   ]
  },
  {
   "cell_type": "code",
   "execution_count": 263,
   "id": "75b736c3-3490-469d-9999-97692388014d",
   "metadata": {},
   "outputs": [
    {
     "data": {
      "image/png": "[encoded data removed]",
      "text/plain": [
       "<Figure size 1200x800 with 1 Axes>"
      ]
     },
     "metadata": {},
     "output_type": "display_data"
    }
   ],
   "source": [
    "# visualize \n",
    "\n",
    "plt.figure(figsize=(12,8))\n",
    "df.resample('M').mean().round(1).precipitation.plot(label='monthly', color='black')\n",
    "plt.ylabel('Precipitation')\n",
    "plt.title('Precipitation Over Time')\n",
    "plt.legend()\n",
    "plt.grid(color='black', linestyle='-', linewidth=.2)\n",
    "plt.show()"
   ]
  },
  {
   "cell_type": "markdown",
   "id": "7a53f542-f541-42b7-9440-49adb8e85bd1",
   "metadata": {},
   "source": [
    "### 3. Visualize the amount of wind over time. Choose a time interval you think is appropriate.\n"
   ]
  },
  {
   "cell_type": "code",
   "execution_count": 532,
   "id": "f3a116f2-f895-4f1d-a7c4-a51287ac90b6",
   "metadata": {},
   "outputs": [
    {
     "data": {
      "text/plain": [
       "date\n",
       "2012-01-01    4.7\n",
       "2012-01-08    3.4\n",
       "2012-01-15    3.4\n",
       "2012-01-22    4.6\n",
       "2012-01-29    3.9\n",
       "Freq: W-SUN, Name: wind, dtype: float64"
      ]
     },
     "execution_count": 532,
     "metadata": {},
     "output_type": "execute_result"
    }
   ],
   "source": [
    "df_wk = df.resample('W').mean().wind.round(1)\n",
    "df_wk.head()"
   ]
  },
  {
   "cell_type": "code",
   "execution_count": 533,
   "id": "458f7637-2d2f-470f-ab75-579209ec428e",
   "metadata": {},
   "outputs": [
    {
     "data": {
      "image/png": "[encoded data removed]",
      "text/plain": [
       "<Figure size 1200x800 with 1 Axes>"
      ]
     },
     "metadata": {},
     "output_type": "display_data"
    }
   ],
   "source": [
    "# visualize weekly\n",
    "\n",
    "plt.figure(figsize=(12,8))\n",
    "df_wk.plot(label='weekly', color='black')\n",
    "plt.ylabel('Winds')\n",
    "plt.title('Winds Over Time')\n",
    "plt.legend()\n",
    "plt.grid(color='black', linestyle='-', linewidth=.2)\n",
    "plt.show()"
   ]
  },
  {
   "cell_type": "code",
   "execution_count": 534,
   "id": "17a48d7d-05f6-47e7-9fa1-d763578e87c6",
   "metadata": {},
   "outputs": [
    {
     "data": {
      "text/plain": [
       "date\n",
       "2012-01-31    3.9\n",
       "2012-02-29    3.9\n",
       "2012-03-31    4.2\n",
       "2012-04-30    3.4\n",
       "2012-05-31    3.4\n",
       "Freq: M, Name: wind, dtype: float64"
      ]
     },
     "execution_count": 534,
     "metadata": {},
     "output_type": "execute_result"
    }
   ],
   "source": [
    "# make it monthly\n",
    "df_mth = df.resample('M').mean().wind.round(1)\n",
    "df_mth.head()"
   ]
  },
  {
   "cell_type": "code",
   "execution_count": 535,
   "id": "40227596-7606-4491-abc9-fccd8486de60",
   "metadata": {},
   "outputs": [
    {
     "data": {
      "image/png": "[encoded data removed]",
      "text/plain": [
       "<Figure size 1200x800 with 1 Axes>"
      ]
     },
     "metadata": {},
     "output_type": "display_data"
    }
   ],
   "source": [
    "# visualize monthly\n",
    "\n",
    "plt.figure(figsize=(12,8))\n",
    "df_mth.plot(label='monthly', color='black')\n",
    "plt.ylabel('Winds')\n",
    "plt.title('Winds Over Time')\n",
    "plt.legend()\n",
    "plt.grid(color='black', linestyle='-', linewidth=.2)\n",
    "plt.show()"
   ]
  },
  {
   "cell_type": "markdown",
   "id": "a23ea357-b550-468e-86f5-9f44faf768a1",
   "metadata": {},
   "source": [
    "### 4. Which year-month combination is the windiest?\n"
   ]
  },
  {
   "cell_type": "code",
   "execution_count": 537,
   "id": "8c7bbebb-ee0a-468c-b72a-f85f8ee91879",
   "metadata": {},
   "outputs": [
    {
     "data": {
      "text/plain": [
       "date\n",
       "2015-12-31    134.6\n",
       "Name: wind, dtype: float64"
      ]
     },
     "execution_count": 537,
     "metadata": {},
     "output_type": "execute_result"
    }
   ],
   "source": [
    "# resampling and looking at winds - 2015 Dec\n",
    "df.resample('M').wind.sum().round(1).sort_values(ascending=False).head(1)"
   ]
  },
  {
   "cell_type": "markdown",
   "id": "44fe9f78-59a7-4273-a4e4-a1867ab30bfe",
   "metadata": {},
   "source": [
    "### 5. What's the sunniest year? (Hint: which day has the highest number of days where weather == sun?)\n"
   ]
  },
  {
   "cell_type": "code",
   "execution_count": 314,
   "id": "de7689b3-f787-4901-9f6c-71fcf71aac75",
   "metadata": {},
   "outputs": [
    {
     "data": {
      "text/plain": [
       "(Timestamp('2014-12-31 00:00:00', freq='A-DEC'), 'sun')"
      ]
     },
     "execution_count": 314,
     "metadata": {},
     "output_type": "execute_result"
    }
   ],
   "source": [
    "# resampling and looking at sun - 2014 \n",
    "df.resample('Y').weather.value_counts().idxmax()"
   ]
  },
  {
   "cell_type": "markdown",
   "id": "6a6adad2-7bf2-423c-9395-12fa293dab55",
   "metadata": {},
   "source": [
    "#### mistys/winstons way"
   ]
  },
  {
   "cell_type": "code",
   "execution_count": 541,
   "id": "e7db2fe7-9c38-469f-aff8-4cf57a6f36a5",
   "metadata": {},
   "outputs": [
    {
     "data": {
      "text/plain": [
       "2014    211\n",
       "2013    205\n",
       "2015    180\n",
       "2012    118\n",
       "Name: date, dtype: int64"
      ]
     },
     "execution_count": 541,
     "metadata": {},
     "output_type": "execute_result"
    }
   ],
   "source": [
    "# 2014! nice\n",
    "df [df.weather == 'sun'].index.year.value_counts()"
   ]
  },
  {
   "cell_type": "markdown",
   "id": "a7c497a6-f232-4929-949a-7e638ed94e9d",
   "metadata": {},
   "source": [
    "### 6. In which month does it rain the most?\n"
   ]
  },
  {
   "cell_type": "code",
   "execution_count": 325,
   "id": "95685825-00ad-4779-b4a7-2642cfd71ba0",
   "metadata": {},
   "outputs": [
    {
     "data": {
      "text/plain": [
       "date        weather\n",
       "2012-01-31  rain       18\n",
       "            snow        7\n",
       "            sun         4\n",
       "            drizzle     2\n",
       "2012-02-29  rain       17\n",
       "                       ..\n",
       "2015-10-31  rain        1\n",
       "2015-11-30  fog        21\n",
       "            sun         9\n",
       "2015-12-31  fog        25\n",
       "            sun         6\n",
       "Name: weather, Length: 138, dtype: int64"
      ]
     },
     "execution_count": 325,
     "metadata": {},
     "output_type": "execute_result"
    }
   ],
   "source": [
    "# resampling by month and looking at weather - January\n",
    "df.resample('M').weather.value_counts()"
   ]
  },
  {
   "cell_type": "markdown",
   "id": "9f0dd702-3ad5-4983-b3f6-9261a1094d79",
   "metadata": {},
   "source": [
    "#### mistys way"
   ]
  },
  {
   "cell_type": "code",
   "execution_count": 549,
   "id": "f676d08e-02fe-48b6-b497-416cc31f4300",
   "metadata": {},
   "outputs": [
    {
     "data": {
      "text/plain": [
       "date\n",
       "November    642.5\n",
       "Name: precipitation, dtype: float64"
      ]
     },
     "execution_count": 549,
     "metadata": {},
     "output_type": "execute_result"
    }
   ],
   "source": [
    "df.groupby(df.index.month_name()).sum().precipitation.sort_values().tail(1)"
   ]
  },
  {
   "cell_type": "markdown",
   "id": "3d00f356-969d-4d3f-8bba-1fc6d1cd2c7b",
   "metadata": {},
   "source": [
    "### 7. Which month has the most number of days with a non-zero amount of precipitation?\n"
   ]
  },
  {
   "cell_type": "code",
   "execution_count": 559,
   "id": "77359226-6a48-443e-a6ad-6c056bb7eb7d",
   "metadata": {},
   "outputs": [],
   "source": [
    "# ## WHAT I WANTED TO DO!!\n",
    "\n",
    "# # Resample the dataframe monthly\n",
    "# df_mth = df.resample('M').sum()\n",
    "# df_mth.head()\n",
    "\n",
    "# # Define a lambda function to add 1 to a column when precipitation is greater than 0\n",
    "# add_one = lambda x: x + 1 if df['precipitation'] > 0 else x\n",
    "\n",
    "# # Apply the lambda function to the desired column of the resampled dataframe\n",
    "# df_mth['sum_rain_days'] = df_mth.apply(add_one)"
   ]
  },
  {
   "cell_type": "code",
   "execution_count": 554,
   "id": "702f0beb-d2bc-4c7d-8c5c-043a9c7e4545",
   "metadata": {},
   "outputs": [
    {
     "data": {
      "text/html": [
       "<div>\n",
       "<style scoped>\n",
       "    .dataframe tbody tr th:only-of-type {\n",
       "        vertical-align: middle;\n",
       "    }\n",
       "\n",
       "    .dataframe tbody tr th {\n",
       "        vertical-align: top;\n",
       "    }\n",
       "\n",
       "    .dataframe thead th {\n",
       "        text-align: right;\n",
       "    }\n",
       "</style>\n",
       "<table border=\"1\" class=\"dataframe\">\n",
       "  <thead>\n",
       "    <tr style=\"text-align: right;\">\n",
       "      <th></th>\n",
       "      <th>precipitation</th>\n",
       "      <th>temp_max</th>\n",
       "      <th>temp_min</th>\n",
       "      <th>wind</th>\n",
       "      <th>weather</th>\n",
       "      <th>month</th>\n",
       "    </tr>\n",
       "    <tr>\n",
       "      <th>date</th>\n",
       "      <th></th>\n",
       "      <th></th>\n",
       "      <th></th>\n",
       "      <th></th>\n",
       "      <th></th>\n",
       "      <th></th>\n",
       "    </tr>\n",
       "  </thead>\n",
       "  <tbody>\n",
       "    <tr>\n",
       "      <th>2012-01-01</th>\n",
       "      <td>0.0</td>\n",
       "      <td>12.8</td>\n",
       "      <td>5.0</td>\n",
       "      <td>4.7</td>\n",
       "      <td>drizzle</td>\n",
       "      <td>January</td>\n",
       "    </tr>\n",
       "    <tr>\n",
       "      <th>2012-01-02</th>\n",
       "      <td>10.9</td>\n",
       "      <td>10.6</td>\n",
       "      <td>2.8</td>\n",
       "      <td>4.5</td>\n",
       "      <td>rain</td>\n",
       "      <td>January</td>\n",
       "    </tr>\n",
       "    <tr>\n",
       "      <th>2012-01-03</th>\n",
       "      <td>0.8</td>\n",
       "      <td>11.7</td>\n",
       "      <td>7.2</td>\n",
       "      <td>2.3</td>\n",
       "      <td>rain</td>\n",
       "      <td>January</td>\n",
       "    </tr>\n",
       "    <tr>\n",
       "      <th>2012-01-04</th>\n",
       "      <td>20.3</td>\n",
       "      <td>12.2</td>\n",
       "      <td>5.6</td>\n",
       "      <td>4.7</td>\n",
       "      <td>rain</td>\n",
       "      <td>January</td>\n",
       "    </tr>\n",
       "    <tr>\n",
       "      <th>2012-01-05</th>\n",
       "      <td>1.3</td>\n",
       "      <td>8.9</td>\n",
       "      <td>2.8</td>\n",
       "      <td>6.1</td>\n",
       "      <td>rain</td>\n",
       "      <td>January</td>\n",
       "    </tr>\n",
       "  </tbody>\n",
       "</table>\n",
       "</div>"
      ],
      "text/plain": [
       "            precipitation  temp_max  temp_min  wind  weather    month\n",
       "date                                                                 \n",
       "2012-01-01            0.0      12.8       5.0   4.7  drizzle  January\n",
       "2012-01-02           10.9      10.6       2.8   4.5     rain  January\n",
       "2012-01-03            0.8      11.7       7.2   2.3     rain  January\n",
       "2012-01-04           20.3      12.2       5.6   4.7     rain  January\n",
       "2012-01-05            1.3       8.9       2.8   6.1     rain  January"
      ]
     },
     "execution_count": 554,
     "metadata": {},
     "output_type": "execute_result"
    }
   ],
   "source": [
    "# make month column\n",
    "df['month'] = df.index.month_name()\n",
    "df.head()"
   ]
  },
  {
   "cell_type": "code",
   "execution_count": 558,
   "id": "ae93a9f4-dd92-4e10-b04a-6e26700b4a8a",
   "metadata": {},
   "outputs": [
    {
     "data": {
      "text/plain": [
       "month\n",
       "December    81\n",
       "Name: weather, dtype: int64"
      ]
     },
     "execution_count": 558,
     "metadata": {},
     "output_type": "execute_result"
    }
   ],
   "source": [
    "# df with precip > 0\n",
    "df [df.precipitation > 0].groupby('month').count().weather.sort_values().tail(1)"
   ]
  },
  {
   "cell_type": "markdown",
   "id": "e2ed6619-fd57-43ab-ac11-b4b2d815f2da",
   "metadata": {
    "jp-MarkdownHeadingCollapsed": true,
    "tags": []
   },
   "source": [
    "## Flights"
   ]
  },
  {
   "cell_type": "code",
   "execution_count": 560,
   "id": "afaee2a3-af17-45cc-bc8e-8379becd3589",
   "metadata": {},
   "outputs": [
    {
     "data": {
      "text/html": [
       "<div>\n",
       "<style scoped>\n",
       "    .dataframe tbody tr th:only-of-type {\n",
       "        vertical-align: middle;\n",
       "    }\n",
       "\n",
       "    .dataframe tbody tr th {\n",
       "        vertical-align: top;\n",
       "    }\n",
       "\n",
       "    .dataframe thead th {\n",
       "        text-align: right;\n",
       "    }\n",
       "</style>\n",
       "<table border=\"1\" class=\"dataframe\">\n",
       "  <thead>\n",
       "    <tr style=\"text-align: right;\">\n",
       "      <th></th>\n",
       "      <th>date</th>\n",
       "      <th>delay</th>\n",
       "      <th>distance</th>\n",
       "      <th>origin</th>\n",
       "      <th>destination</th>\n",
       "    </tr>\n",
       "  </thead>\n",
       "  <tbody>\n",
       "    <tr>\n",
       "      <th>0</th>\n",
       "      <td>2001-01-13 14:56:00</td>\n",
       "      <td>32</td>\n",
       "      <td>417</td>\n",
       "      <td>SAN</td>\n",
       "      <td>SJC</td>\n",
       "    </tr>\n",
       "    <tr>\n",
       "      <th>1</th>\n",
       "      <td>2001-01-31 16:40:00</td>\n",
       "      <td>-5</td>\n",
       "      <td>1093</td>\n",
       "      <td>FLL</td>\n",
       "      <td>ISP</td>\n",
       "    </tr>\n",
       "    <tr>\n",
       "      <th>2</th>\n",
       "      <td>2001-02-11 18:39:00</td>\n",
       "      <td>3</td>\n",
       "      <td>293</td>\n",
       "      <td>LBB</td>\n",
       "      <td>DAL</td>\n",
       "    </tr>\n",
       "    <tr>\n",
       "      <th>3</th>\n",
       "      <td>2001-01-10 21:00:00</td>\n",
       "      <td>-15</td>\n",
       "      <td>550</td>\n",
       "      <td>MSY</td>\n",
       "      <td>MCO</td>\n",
       "    </tr>\n",
       "    <tr>\n",
       "      <th>4</th>\n",
       "      <td>2001-03-30 21:45:00</td>\n",
       "      <td>-2</td>\n",
       "      <td>229</td>\n",
       "      <td>STL</td>\n",
       "      <td>IND</td>\n",
       "    </tr>\n",
       "  </tbody>\n",
       "</table>\n",
       "</div>"
      ],
      "text/plain": [
       "                 date  delay  distance origin destination\n",
       "0 2001-01-13 14:56:00     32       417    SAN         SJC\n",
       "1 2001-01-31 16:40:00     -5      1093    FLL         ISP\n",
       "2 2001-02-11 18:39:00      3       293    LBB         DAL\n",
       "3 2001-01-10 21:00:00    -15       550    MSY         MCO\n",
       "4 2001-03-30 21:45:00     -2       229    STL         IND"
      ]
     },
     "execution_count": 560,
     "metadata": {},
     "output_type": "execute_result"
    }
   ],
   "source": [
    "# get the data\n",
    "df = data.flights_20k()\n",
    "df.head()"
   ]
  },
  {
   "cell_type": "code",
   "execution_count": 561,
   "id": "681a7cf1-b639-4cfc-bb0c-1585fac51b34",
   "metadata": {},
   "outputs": [],
   "source": [
    "# add column to account for day of the week\n",
    "df['dayofweek'] = df.date.dt.day_of_week"
   ]
  },
  {
   "cell_type": "code",
   "execution_count": 562,
   "id": "b84b065b-4e7d-4605-b564-62920d452df0",
   "metadata": {},
   "outputs": [
    {
     "name": "stdout",
     "output_type": "stream",
     "text": [
      "<class 'pandas.core.frame.DataFrame'>\n",
      "RangeIndex: 20000 entries, 0 to 19999\n",
      "Data columns (total 6 columns):\n",
      " #   Column       Non-Null Count  Dtype         \n",
      "---  ------       --------------  -----         \n",
      " 0   date         20000 non-null  datetime64[ns]\n",
      " 1   delay        20000 non-null  int64         \n",
      " 2   distance     20000 non-null  int64         \n",
      " 3   origin       20000 non-null  object        \n",
      " 4   destination  20000 non-null  object        \n",
      " 5   dayofweek    20000 non-null  int64         \n",
      "dtypes: datetime64[ns](1), int64(3), object(2)\n",
      "memory usage: 937.6+ KB\n"
     ]
    }
   ],
   "source": [
    "# look at the data\n",
    "df.info()"
   ]
  },
  {
   "cell_type": "code",
   "execution_count": 563,
   "id": "31f39e85-a93e-49f3-ad32-dff696f23678",
   "metadata": {},
   "outputs": [],
   "source": [
    "# set and sort index by date\n",
    "df = df.set_index('date').sort_index()"
   ]
  },
  {
   "cell_type": "markdown",
   "id": "54b3d99b-cf83-4793-a7c1-5c81c77e9610",
   "metadata": {},
   "source": [
    "### 1. Convert any negative delays to 0.\n"
   ]
  },
  {
   "cell_type": "code",
   "execution_count": 475,
   "id": "aa5e2131-faba-47ec-bb0b-4c7f51b48a01",
   "metadata": {},
   "outputs": [],
   "source": [
    "# convert negative delays to 0\n",
    "df.loc[df['delay'] < 0, 'delay'] = 0"
   ]
  },
  {
   "cell_type": "markdown",
   "id": "c25dfea6-5dbc-4120-b98a-f4715869698d",
   "metadata": {},
   "source": [
    "### 2. Which hour of the day has the highest average delay?\n"
   ]
  },
  {
   "cell_type": "code",
   "execution_count": 476,
   "id": "5fe97dda-163e-4508-9d05-9c3d18485e83",
   "metadata": {},
   "outputs": [
    {
     "data": {
      "text/plain": [
       "date\n",
       "2001-02-23 03:00:00    360.0\n",
       "Name: delay, dtype: float64"
      ]
     },
     "execution_count": 476,
     "metadata": {},
     "output_type": "execute_result"
    }
   ],
   "source": [
    "# resample by hour, delay mean, sort and display - 3am\n",
    "df.resample('H').delay.mean().sort_values(ascending=False).head(1)"
   ]
  },
  {
   "cell_type": "markdown",
   "id": "1b8da89d-2068-4852-9342-84f108d2f1df",
   "metadata": {},
   "source": [
    "#### mistys way"
   ]
  },
  {
   "cell_type": "code",
   "execution_count": 564,
   "id": "61082818-0c67-438a-99bd-bbb2297c3e1a",
   "metadata": {},
   "outputs": [],
   "source": [
    "# pull out and make new column\n",
    "df['hour'] = df.index.hour"
   ]
  },
  {
   "cell_type": "code",
   "execution_count": 570,
   "id": "46b62fd2-f8c5-494f-aaee-8eb1b8f6c4d7",
   "metadata": {},
   "outputs": [
    {
     "data": {
      "text/html": [
       "<div>\n",
       "<style scoped>\n",
       "    .dataframe tbody tr th:only-of-type {\n",
       "        vertical-align: middle;\n",
       "    }\n",
       "\n",
       "    .dataframe tbody tr th {\n",
       "        vertical-align: top;\n",
       "    }\n",
       "\n",
       "    .dataframe thead th {\n",
       "        text-align: right;\n",
       "    }\n",
       "</style>\n",
       "<table border=\"1\" class=\"dataframe\">\n",
       "  <thead>\n",
       "    <tr style=\"text-align: right;\">\n",
       "      <th></th>\n",
       "      <th>delay</th>\n",
       "      <th>distance</th>\n",
       "      <th>dayofweek</th>\n",
       "    </tr>\n",
       "    <tr>\n",
       "      <th>hour</th>\n",
       "      <th></th>\n",
       "      <th></th>\n",
       "      <th></th>\n",
       "    </tr>\n",
       "  </thead>\n",
       "  <tbody>\n",
       "    <tr>\n",
       "      <th>3</th>\n",
       "      <td>302.5</td>\n",
       "      <td>322.0</td>\n",
       "      <td>2.5</td>\n",
       "    </tr>\n",
       "  </tbody>\n",
       "</table>\n",
       "</div>"
      ],
      "text/plain": [
       "      delay  distance  dayofweek\n",
       "hour                            \n",
       "3     302.5     322.0        2.5"
      ]
     },
     "execution_count": 570,
     "metadata": {},
     "output_type": "execute_result"
    }
   ],
   "source": [
    "df.groupby('hour').mean().sort_values(by='delay').tail(1)"
   ]
  },
  {
   "cell_type": "markdown",
   "id": "a9cf1ef3-dc32-4e16-84a2-780b87e2a57c",
   "metadata": {},
   "source": [
    "### 3. Does the day of the week make a difference in the delay amount?\n"
   ]
  },
  {
   "cell_type": "code",
   "execution_count": 576,
   "id": "f88159f7-2783-4e44-9a76-6d09c6a0a907",
   "metadata": {},
   "outputs": [
    {
     "data": {
      "text/plain": [
       "dayofweek\n",
       "4    47220\n",
       "Name: delay, dtype: int64"
      ]
     },
     "execution_count": 576,
     "metadata": {},
     "output_type": "execute_result"
    }
   ],
   "source": [
    "# check delays for day of week group by - Yes, day of week 4 = Thursday\n",
    "# Monday is 0 and Sunday is 6\n",
    "df.groupby(by='dayofweek').delay.sum().sort_values(ascending=False).head(1)"
   ]
  },
  {
   "cell_type": "markdown",
   "id": "030c618c-a738-4a87-ad0b-c1b2eb02f191",
   "metadata": {},
   "source": [
    "#### mistys way"
   ]
  },
  {
   "cell_type": "code",
   "execution_count": 571,
   "id": "1a9627e2-f66a-4134-8a8e-d7c8ca136b19",
   "metadata": {},
   "outputs": [],
   "source": [
    "df['weekday'] = df.index.weekday"
   ]
  },
  {
   "cell_type": "code",
   "execution_count": 575,
   "id": "dfbb61d3-cd1a-4a4e-a686-a18813b1186e",
   "metadata": {},
   "outputs": [
    {
     "data": {
      "text/plain": [
       "weekday\n",
       "4    15.594452\n",
       "Name: delay, dtype: float64"
      ]
     },
     "execution_count": 575,
     "metadata": {},
     "output_type": "execute_result"
    }
   ],
   "source": [
    "df.groupby('weekday').mean().delay.sort_values().tail(1)"
   ]
  },
  {
   "cell_type": "markdown",
   "id": "51d206a3-27b5-4c9f-8c3c-a48467910059",
   "metadata": {
    "tags": []
   },
   "source": [
    "### 4. Does the month make a difference in the delay amount?\n"
   ]
  },
  {
   "cell_type": "code",
   "execution_count": 478,
   "id": "3eb9893f-c822-400b-868e-f1247da11a5c",
   "metadata": {},
   "outputs": [
    {
     "data": {
      "text/plain": [
       "date\n",
       "2001-02-28    76987\n",
       "2001-01-31    76670\n",
       "2001-03-31    68732\n",
       "Name: delay, dtype: int64"
      ]
     },
     "execution_count": 478,
     "metadata": {},
     "output_type": "execute_result"
    }
   ],
   "source": [
    "# doesn't seem to really - February is the worst\n",
    "df.resample('M').delay.sum().sort_values(ascending=False)"
   ]
  },
  {
   "cell_type": "code",
   "execution_count": 577,
   "id": "e86344c2-8319-4da8-911a-9678710e06e1",
   "metadata": {},
   "outputs": [
    {
     "data": {
      "text/plain": [
       "date\n",
       "2001-02-28    9.398338\n",
       "2001-01-31    8.242630\n",
       "2001-03-31    6.804310\n",
       "Name: delay, dtype: float64"
      ]
     },
     "execution_count": 577,
     "metadata": {},
     "output_type": "execute_result"
    }
   ],
   "source": [
    "# doesn't seem to really - February is the worst\n",
    "df.resample('M').delay.mean().sort_values(ascending=False)"
   ]
  },
  {
   "cell_type": "code",
   "execution_count": 579,
   "id": "ef962bbe-be79-4742-b5df-4a11373cc197",
   "metadata": {},
   "outputs": [],
   "source": [
    "df['month'] = df.index.month_name()"
   ]
  },
  {
   "cell_type": "code",
   "execution_count": 582,
   "id": "6bb9c27d-91c9-4f5c-bd7b-88b77be378b8",
   "metadata": {},
   "outputs": [
    {
     "data": {
      "text/plain": [
       "month\n",
       "February    9.398338\n",
       "Name: delay, dtype: float64"
      ]
     },
     "execution_count": 582,
     "metadata": {},
     "output_type": "execute_result"
    }
   ],
   "source": [
    "df.groupby('month').mean().delay.sort_values().tail(1)"
   ]
  },
  {
   "cell_type": "markdown",
   "id": "2d69e1ff-2b04-4f1a-b8b7-f2bf865d36ca",
   "metadata": {
    "jp-MarkdownHeadingCollapsed": true,
    "tags": []
   },
   "source": [
    "# Bonus: Iowa Electricity"
   ]
  },
  {
   "cell_type": "markdown",
   "id": "cc934331-aa58-459f-9ab4-1f70f8495fe0",
   "metadata": {},
   "source": [
    "### 1. For each row, calculate the percentage of the year's total that energy source provided.\n"
   ]
  },
  {
   "cell_type": "code",
   "execution_count": 451,
   "id": "d4349cf4-bd68-461a-a939-8810bb069b51",
   "metadata": {},
   "outputs": [
    {
     "data": {
      "text/html": [
       "<div>\n",
       "<style scoped>\n",
       "    .dataframe tbody tr th:only-of-type {\n",
       "        vertical-align: middle;\n",
       "    }\n",
       "\n",
       "    .dataframe tbody tr th {\n",
       "        vertical-align: top;\n",
       "    }\n",
       "\n",
       "    .dataframe thead th {\n",
       "        text-align: right;\n",
       "    }\n",
       "</style>\n",
       "<table border=\"1\" class=\"dataframe\">\n",
       "  <thead>\n",
       "    <tr style=\"text-align: right;\">\n",
       "      <th></th>\n",
       "      <th>year</th>\n",
       "      <th>source</th>\n",
       "      <th>net_generation</th>\n",
       "    </tr>\n",
       "  </thead>\n",
       "  <tbody>\n",
       "    <tr>\n",
       "      <th>0</th>\n",
       "      <td>2001-01-01</td>\n",
       "      <td>Fossil Fuels</td>\n",
       "      <td>35361</td>\n",
       "    </tr>\n",
       "    <tr>\n",
       "      <th>1</th>\n",
       "      <td>2002-01-01</td>\n",
       "      <td>Fossil Fuels</td>\n",
       "      <td>35991</td>\n",
       "    </tr>\n",
       "    <tr>\n",
       "      <th>2</th>\n",
       "      <td>2003-01-01</td>\n",
       "      <td>Fossil Fuels</td>\n",
       "      <td>36234</td>\n",
       "    </tr>\n",
       "    <tr>\n",
       "      <th>3</th>\n",
       "      <td>2004-01-01</td>\n",
       "      <td>Fossil Fuels</td>\n",
       "      <td>36205</td>\n",
       "    </tr>\n",
       "    <tr>\n",
       "      <th>4</th>\n",
       "      <td>2005-01-01</td>\n",
       "      <td>Fossil Fuels</td>\n",
       "      <td>36883</td>\n",
       "    </tr>\n",
       "  </tbody>\n",
       "</table>\n",
       "</div>"
      ],
      "text/plain": [
       "        year        source  net_generation\n",
       "0 2001-01-01  Fossil Fuels           35361\n",
       "1 2002-01-01  Fossil Fuels           35991\n",
       "2 2003-01-01  Fossil Fuels           36234\n",
       "3 2004-01-01  Fossil Fuels           36205\n",
       "4 2005-01-01  Fossil Fuels           36883"
      ]
     },
     "execution_count": 451,
     "metadata": {},
     "output_type": "execute_result"
    }
   ],
   "source": [
    "df = data.iowa_electricity()\n",
    "df.head()"
   ]
  },
  {
   "cell_type": "code",
   "execution_count": 452,
   "id": "6511a933-50ed-4fac-b6e3-b67b827677aa",
   "metadata": {},
   "outputs": [
    {
     "name": "stdout",
     "output_type": "stream",
     "text": [
      "<class 'pandas.core.frame.DataFrame'>\n",
      "RangeIndex: 51 entries, 0 to 50\n",
      "Data columns (total 3 columns):\n",
      " #   Column          Non-Null Count  Dtype         \n",
      "---  ------          --------------  -----         \n",
      " 0   year            51 non-null     datetime64[ns]\n",
      " 1   source          51 non-null     object        \n",
      " 2   net_generation  51 non-null     int64         \n",
      "dtypes: datetime64[ns](1), int64(1), object(1)\n",
      "memory usage: 1.3+ KB\n"
     ]
    }
   ],
   "source": [
    "# look at the data\n",
    "df.info()"
   ]
  },
  {
   "cell_type": "code",
   "execution_count": 455,
   "id": "08a4a6b2-b47f-4f55-8fcc-ec932d671dea",
   "metadata": {},
   "outputs": [
    {
     "data": {
      "text/plain": [
       "2001-01-01    3\n",
       "2010-01-01    3\n",
       "2016-01-01    3\n",
       "2015-01-01    3\n",
       "2014-01-01    3\n",
       "2013-01-01    3\n",
       "2012-01-01    3\n",
       "2011-01-01    3\n",
       "2009-01-01    3\n",
       "2002-01-01    3\n",
       "2008-01-01    3\n",
       "2007-01-01    3\n",
       "2006-01-01    3\n",
       "2005-01-01    3\n",
       "2004-01-01    3\n",
       "2003-01-01    3\n",
       "2017-01-01    3\n",
       "Name: year, dtype: int64"
      ]
     },
     "execution_count": 455,
     "metadata": {},
     "output_type": "execute_result"
    }
   ],
   "source": [
    "# year? This is weird...\n",
    "df.year.value_counts()"
   ]
  },
  {
   "cell_type": "code",
   "execution_count": 463,
   "id": "f0e24121-6b24-492a-b75f-df58f490f1a5",
   "metadata": {},
   "outputs": [
    {
     "data": {
      "text/plain": [
       "Fossil Fuels      17\n",
       "Nuclear Energy    17\n",
       "Renewables        17\n",
       "Name: source, dtype: int64"
      ]
     },
     "execution_count": 463,
     "metadata": {},
     "output_type": "execute_result"
    }
   ],
   "source": [
    "df.source.value_counts()"
   ]
  },
  {
   "cell_type": "code",
   "execution_count": null,
   "id": "b007fe11-a0a8-45eb-8949-e772b6809ee5",
   "metadata": {},
   "outputs": [],
   "source": []
  },
  {
   "cell_type": "markdown",
   "id": "1b124225-dcc3-4872-a1de-0ffb7f7bd752",
   "metadata": {},
   "source": [
    "### 2. Lineplot of generation over time, color by source\n"
   ]
  },
  {
   "cell_type": "code",
   "execution_count": 469,
   "id": "f70643b6-4130-4a30-963b-9dcef602c6a3",
   "metadata": {},
   "outputs": [],
   "source": [
    "# # visualize monthly\n",
    "\n",
    "# plt.figure(figsize=(12,8))\n",
    "# plt.bar(label='Oil', color='black')\n",
    "# plt.ylabel('Winds')\n",
    "# plt.title('Winds Over Time')\n",
    "# plt.legend()\n",
    "# plt.grid(color='black', linestyle='-', linewidth=.2)\n",
    "# plt.show()"
   ]
  },
  {
   "cell_type": "markdown",
   "id": "4f2fd817-1323-4f49-862e-052edabea074",
   "metadata": {},
   "source": [
    "### 3. Display the data as table where years are columns, and energy source is rows (Hint: df.pivot_table)\n"
   ]
  },
  {
   "cell_type": "code",
   "execution_count": null,
   "id": "c77d51da-d3d8-49f9-a073-22b8525b206e",
   "metadata": {},
   "outputs": [],
   "source": []
  },
  {
   "cell_type": "markdown",
   "id": "0f258302-d8eb-44e8-9170-4bf8d3c2b0d2",
   "metadata": {},
   "source": [
    "### 4. Make a line plot that shows the amount of energy generated over time. Each source should be a separate line?\n"
   ]
  },
  {
   "cell_type": "code",
   "execution_count": null,
   "id": "61dc39a0-8c41-4f44-9cc7-1653122b2257",
   "metadata": {},
   "outputs": [],
   "source": []
  },
  {
   "cell_type": "markdown",
   "id": "da34a44b-5758-4dc9-b95d-cda1c66f7bf0",
   "metadata": {},
   "source": [
    "### 5. Is the total generation increasing over time?\n",
    "* How would you control for increasing consumption over time when considering how much energy is coming from each source?\n",
    "* express each number as a % of the year's total\n"
   ]
  },
  {
   "cell_type": "code",
   "execution_count": null,
   "id": "2321fca6-98df-44c9-aa05-8a77ae3c983a",
   "metadata": {},
   "outputs": [],
   "source": []
  }
 ],
 "metadata": {
  "kernelspec": {
   "display_name": "Python 3 (ipykernel)",
   "language": "python",
   "name": "python3"
  },
  "language_info": {
   "codemirror_mode": {
    "name": "ipython",
    "version": 3
   },
   "file_extension": ".py",
   "mimetype": "text/x-python",
   "name": "python",
   "nbconvert_exporter": "python",
   "pygments_lexer": "ipython3",
   "version": "3.9.13"
  }
 },
 "nbformat": 4,
 "nbformat_minor": 5
}
